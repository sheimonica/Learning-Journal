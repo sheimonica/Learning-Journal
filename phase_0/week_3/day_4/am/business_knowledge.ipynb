{
 "cells": [
  {
   "cell_type": "markdown",
   "metadata": {},
   "source": [
    "# Business"
   ]
  },
  {
   "cell_type": "markdown",
   "metadata": {},
   "source": [
    "## Primary Goal: Profit"
   ]
  },
  {
   "cell_type": "markdown",
   "metadata": {},
   "source": [
    "- To maximize the profit, we want to increase revenues/incomes and/or decrease costs/expenses.\n",
    "- Expenses can be divided into two categories which are capital expenditures(CAPEX) [long term] and    operational expenditures(OPEX) [short term]\n",
    "- By nature, different departements tend to fall into two categories: revenue-maximizing or cost-minimizing"
   ]
  },
  {
   "cell_type": "markdown",
   "metadata": {},
   "source": [
    "### Revenue Maximization - Products"
   ]
  },
  {
   "cell_type": "markdown",
   "metadata": {},
   "source": [
    "two main departements that maximize revenue are Products and Marketing\n",
    "\n",
    "A product can be a good, service, or idea and is created to satisfy a want or a need. However, in the case of business departments, product refers to all activities related to product R&D, development, and maintenance.\n",
    "\n",
    "Data Science serves two purposes:\n",
    "- Create new products\n",
    "- Enhance existing products\n",
    "\n",
    "google trends is a useful tool"
   ]
  },
  {
   "cell_type": "markdown",
   "metadata": {},
   "source": [
    "### Revenue Maximization - Marketing"
   ]
  },
  {
   "cell_type": "markdown",
   "metadata": {},
   "source": [
    "Marketing is formally defined as all activities related to promoting the buying or selling of a product.It include sthings like advertising, pricing, and understanding one’s target market.\n",
    "\n",
    "- Marketing Channels: measure the impact of various marketing channels through methods\n",
    "- Pricing and Discount Optimization: find the optimum price that maximize profit and buyers\n",
    "- Customer Segmentation: find the characteristic of our customer to make marketing strategies"
   ]
  },
  {
   "cell_type": "markdown",
   "metadata": {},
   "source": [
    "### Cost Minimization - Operations"
   ]
  },
  {
   "cell_type": "markdown",
   "metadata": {},
   "source": [
    "In general, Data Science role in cost minimization category is to make automations. The two main departements where data scientist plays huge role are operations and customerservice.\n",
    "\n",
    "Operations in business refer to the activities that a business engages in on a daily basis. Typically,the main goal in operations is to make tasks and processes as efficient as possible.This means maximizing time to complete things while minimizing errors.\n",
    "\n",
    "For Example:\n",
    "- Autonomous defective products detection"
   ]
  },
  {
   "cell_type": "markdown",
   "metadata": {},
   "source": [
    "### Cost Minimization – Customer Service"
   ]
  },
  {
   "cell_type": "markdown",
   "metadata": {},
   "source": [
    "Customer service refers to the support that a company offers to its customers. As a company grows in size,it’s fair to assume that there will be a proportionate increase in the number of customers that will need support.\n",
    "\n",
    "For example:\n",
    "- Chatbot\n",
    "- Predicting if the customers will want to use our new products"
   ]
  },
  {
   "cell_type": "markdown",
   "metadata": {},
   "source": [
    "### OKRs and KPIs"
   ]
  },
  {
   "cell_type": "markdown",
   "metadata": {},
   "source": [
    "- OKR is short for Objectives & Key Results and it is a framework for defining and tracking objectives and their outcomes-you can think of them as goals. Typically, each department has its own OKRS that they set every quarter. For example, the marketing department might have an OKR to increase conversions from X to Y.\n",
    "\n",
    "- KPI is short for Key Performance Indicators and they are essentially metrics that show how effectively a company is achieving its business objectives. Continuing with the marketing example, a KPI for the objective above can be an increase in website traffic or an increase in marketing ROI (Retum on Investment)"
   ]
  },
  {
   "cell_type": "markdown",
   "metadata": {},
   "source": [
    "### Conversion Funnel - Leads and Conversion Rate"
   ]
  },
  {
   "cell_type": "markdown",
   "metadata": {},
   "source": [
    "Conversion funnel is away to detect bottle necks of our customer journey  to reach our goal.\n",
    "\n",
    "key points:\n",
    "- Leads - number of potential customers\n",
    "- Conversion Rate - ratio of customers that reach our goal over total potentials"
   ]
  },
  {
   "cell_type": "markdown",
   "metadata": {},
   "source": [
    "### Churn Rate"
   ]
  },
  {
   "cell_type": "markdown",
   "metadata": {},
   "source": [
    "Churn rate is basically talks about how much we loss customers.\n",
    "\n",
    "Formula:\n",
    "(customers at beginning of time period - customers at end of time period) / customers at beginning of time period"
   ]
  },
  {
   "cell_type": "markdown",
   "metadata": {},
   "source": [
    "### Customer Retention"
   ]
  },
  {
   "cell_type": "markdown",
   "metadata": {},
   "source": [
    "Customer Retention is the process of engaging existing customers to continue buying products or services from your business.\n",
    "\n",
    "Increasing customer retention rate:\n",
    "- Set sales goals\n",
    "- Map customer journey to detect unexpected problems\n",
    "- Reduce friction\n",
    "- Give a great impression\n",
    "- Engage the customers\n",
    "- Understanding customer’s problems and ask for feedbacks\n",
    "- Over a valuable upsell\n",
    "- Do A/B test\n"
   ]
  },
  {
   "cell_type": "markdown",
   "metadata": {},
   "source": [
    "### Gross Merchandise Value"
   ]
  },
  {
   "cell_type": "markdown",
   "metadata": {},
   "source": [
    "Gross merchandise value (GMV) is the total value of merchandise sold over a given period of time through a customer-to-customer(C2C) exchange site. \n",
    "\n",
    "It is often used to determine the health of an e-commerce site's business because its revenue will be a function of gross merchandise sold and fees charged. It is most useful as a comparative measure over time,such as current quarter value versus previous quarter value.\n",
    "\n",
    "GMV = Sales Price of Goods x Number of Goods Sold\n"
   ]
  },
  {
   "cell_type": "markdown",
   "metadata": {},
   "source": [
    "### Determine Business Goals"
   ]
  },
  {
   "cell_type": "markdown",
   "metadata": {},
   "source": [
    "A Data Scientist plays role in a business to solve their problem using data science solutions. How do we translate business problems into data-driven solutions?\n",
    "\n",
    "We can ease our works to set the goals by using these steps:\n",
    "- Describe the problem to be solved\n",
    "- Specifiy all the business questions as precisely as possible\n",
    "- Determine any other business requirements, such as not losing a customer while increasing cross-sell opportunities\n",
    "- Specify the expected benefits in business terms, such as reducing churn among high-value customers by 10%"
   ]
  },
  {
   "cell_type": "markdown",
   "metadata": {},
   "source": [
    "### Determine Data Analysis Goals"
   ]
  },
  {
   "cell_type": "markdown",
   "metadata": {},
   "source": [
    "After the business goals are clear, you need to translate them into data analysis goals and activities. For example, if the business objective is to reduce churn, you might set these analysis goals:\n",
    "\n",
    "- Identify high-value customers based on recent purchase data.\n",
    "- Build a model by using available customer data to predict the likelihood of churn for each customer.\n",
    "- Rank customer based on churn propensity and customer value.\n",
    "\n",
    "A key question to answer in follow-on activities is whether the data from the customer contains the correct information to answer the business problem. It's also important to consider how you might act on the results of this analysis to support the business goals. How do you consume and deploy the results of the analytics, and what action do you take within the business?"
   ]
  }
 ],
 "metadata": {
  "language_info": {
   "name": "python"
  },
  "orig_nbformat": 4
 },
 "nbformat": 4,
 "nbformat_minor": 2
}
