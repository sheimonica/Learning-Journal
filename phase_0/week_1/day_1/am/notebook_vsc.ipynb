{
 "cells": [
  {
   "cell_type": "markdown",
   "metadata": {},
   "source": [
    "What is data science? A method to analyze raw data using complex and efficient algorithm and to visualize it to answer questions and make better decisions in response to it.\n",
    "\n",
    "what can you do with data\n",
    "- can reduce fraudulence\n",
    "- predict future event\n",
    "- make better decision\n",
    "- innovate products, services, processes\n",
    "- improve quality, reduce costs, build trust \n",
    "\n",
    "Future prospect:\n",
    "Data Scientist / Analyst / Engineer, Machine Learning Expert, Business Intelligence, Data Architect / Administrator\n"
   ]
  },
  {
   "cell_type": "markdown",
   "metadata": {},
   "source": [
    "integrated development environment (IDE) if you install directly from python you need to install each library separately. With anaconda, the other library (numpy, jupyter, etc) is installed together with it\n",
    "\n",
    "google collab - 6 hours, no need for installation, online processing"
   ]
  },
  {
   "cell_type": "markdown",
   "metadata": {},
   "source": [
    "cd D:\\Hacktiv8_Sheila (to change directory)\n",
    "jupyter notebook (to access jupyter notebook)\n",
    "python file format (.py [script, in terminal / anaconda prompt], .ipynb [notebook, ms word for data scientist])"
   ]
  }
 ],
 "metadata": {
  "kernelspec": {
   "display_name": "Python 3.9.12 ('base')",
   "language": "python",
   "name": "python3"
  },
  "language_info": {
   "codemirror_mode": {
    "name": "ipython",
    "version": 3
   },
   "file_extension": ".py",
   "mimetype": "text/x-python",
   "name": "python",
   "nbconvert_exporter": "python",
   "pygments_lexer": "ipython3",
   "version": "3.9.12"
  },
  "orig_nbformat": 4,
  "vscode": {
   "interpreter": {
    "hash": "690fcc030dbde6f3f652c519b06a0d95da528e66105ed58c88e506e5818277cb"
   }
  }
 },
 "nbformat": 4,
 "nbformat_minor": 2
}
