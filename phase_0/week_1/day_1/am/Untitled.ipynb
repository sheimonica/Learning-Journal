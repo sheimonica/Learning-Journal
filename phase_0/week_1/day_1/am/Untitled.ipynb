{
 "cells": [
  {
   "cell_type": "code",
   "execution_count": 1,
   "id": "105e654d",
   "metadata": {},
   "outputs": [
    {
     "name": "stdout",
     "output_type": "stream",
     "text": [
      "Halo Hacktiv8!\n"
     ]
    }
   ],
   "source": [
    "print(\"Halo Hacktiv8!\")"
   ]
  },
  {
   "cell_type": "markdown",
   "id": "1de459f3",
   "metadata": {},
   "source": [
    "Ini adalah notebook pertama saya di Hacktiv8"
   ]
  },
  {
   "cell_type": "markdown",
   "id": "dd6534d4",
   "metadata": {},
   "source": [
    "# Ini Judul"
   ]
  },
  {
   "cell_type": "code",
   "execution_count": 4,
   "id": "8f58dcf6",
   "metadata": {},
   "outputs": [
    {
     "data": {
      "text/plain": [
       "2"
      ]
     },
     "execution_count": 4,
     "metadata": {},
     "output_type": "execute_result"
    }
   ],
   "source": [
    "1+1"
   ]
  },
  {
   "cell_type": "code",
   "execution_count": null,
   "id": "526c7cc8",
   "metadata": {},
   "outputs": [],
   "source": []
  }
 ],
 "metadata": {
  "kernelspec": {
   "display_name": "Python 3.9.12 ('base')",
   "language": "python",
   "name": "python3"
  },
  "language_info": {
   "codemirror_mode": {
    "name": "ipython",
    "version": 3
   },
   "file_extension": ".py",
   "mimetype": "text/x-python",
   "name": "python",
   "nbconvert_exporter": "python",
   "pygments_lexer": "ipython3",
   "version": "3.9.12"
  },
  "vscode": {
   "interpreter": {
    "hash": "690fcc030dbde6f3f652c519b06a0d95da528e66105ed58c88e506e5818277cb"
   }
  }
 },
 "nbformat": 4,
 "nbformat_minor": 5
}
