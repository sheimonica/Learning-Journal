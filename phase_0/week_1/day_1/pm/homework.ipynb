{
 "cells": [
  {
   "cell_type": "markdown",
   "metadata": {},
   "source": [
    "## Solving Problem - Feel free to make peer discussion"
   ]
  },
  {
   "cell_type": "code",
   "execution_count": 5,
   "metadata": {},
   "outputs": [
    {
     "name": "stdout",
     "output_type": "stream",
     "text": [
      "The first color in the list is Red and the last color in the list is Black\n"
     ]
    }
   ],
   "source": [
    "# List 1\n",
    "# Write a Python program to display the first and last colors from the following list.\n",
    "# color_list = [\"Red\",\"Green\",\"White\" ,\"Black\"]\n",
    "\n",
    "color_list = [\"Red\",\"Green\",\"White\" ,\"Black\"]\n",
    "list_count = len(color_list)\n",
    "\n",
    "print(f\"The first color in the list is {color_list[0]} and the last color in the list is {color_list[list_count-1]}.\")\n"
   ]
  },
  {
   "cell_type": "code",
   "execution_count": 13,
   "metadata": {},
   "outputs": [
    {
     "name": "stdout",
     "output_type": "stream",
     "text": [
      "['Green', 'White', 'Black']\n"
     ]
    }
   ],
   "source": [
    "# List 2\n",
    "# Write a Python program to print a specified list after removing the 0th, 4th and 5th elements.\n",
    "# Sample List : ['Red', 'Green', 'White', 'Black', 'Pink', 'Yellow']\n",
    "# Expected Output : ['Green', 'White', 'Black']\n",
    "\n",
    "sample_list = ['Red', 'Green', 'White', 'Black', 'Pink', 'Yellow']\n",
    "del sample_list[0]\n",
    "del sample_list[(4-1)]\n",
    "del sample_list[(5-2)]\n",
    "print(sample_list)"
   ]
  },
  {
   "cell_type": "code",
   "execution_count": 15,
   "metadata": {},
   "outputs": [
    {
     "name": "stdout",
     "output_type": "stream",
     "text": [
      "{0: 10, 1: 20, 2: 30}\n"
     ]
    }
   ],
   "source": [
    "# Dictionary 1\n",
    "# Write a Python script to add a key to a dictionary.\n",
    "# Sample Dictionary : {0: 10, 1: 20}\n",
    "# Expected Result : {0: 10, 1: 20, 2: 30}\n",
    "\n",
    "sample_dictionary = {0: 10, 1: 20}\n",
    "sample_dictionary[2] = 30\n",
    "print(sample_dictionary)"
   ]
  },
  {
   "cell_type": "code",
   "execution_count": 21,
   "metadata": {},
   "outputs": [
    {
     "name": "stdout",
     "output_type": "stream",
     "text": [
      "Sample dictionary: {0: 10, 1: 20, 2: 30}\n",
      "Total sum of all the items in a dictionary is 60\n"
     ]
    }
   ],
   "source": [
    "# Dictionary 2\n",
    "# Write a Python program to sum all the items in a dictionary.\n",
    "print(f\"Sample dictionary: {sample_dictionary}\")\n",
    "total_sum = sum(sample_dictionary.values())\n",
    "print(f\"Total sum of all the items in a dictionary is {total_sum}.\")"
   ]
  },
  {
   "cell_type": "code",
   "execution_count": 29,
   "metadata": {},
   "outputs": [
    {
     "name": "stdout",
     "output_type": "stream",
     "text": [
      "xyc abz\n"
     ]
    }
   ],
   "source": [
    "# String 1\n",
    "# Write a Python program to get a single string from two given strings, separated by a space and swap the first two characters of each string. \n",
    "# Sample String : 'abc', 'xyz' \n",
    "# Expected Result : 'xyc abz'\n",
    "\n",
    "string_1 = \"abc\"\n",
    "string_2 = \"xyz\"\n",
    "\n",
    "newstring_1 = string_2[:-2]+string_1[-1]\n",
    "newstring_2 = string_1[:-2]+string_2[-1]\n",
    "print(f\"{newstring_1} {newstring_2}\")"
   ]
  },
  {
   "cell_type": "code",
   "execution_count": 31,
   "metadata": {},
   "outputs": [
    {
     "name": "stdout",
     "output_type": "stream",
     "text": [
      "abcd\n"
     ]
    }
   ],
   "source": [
    "# String 2\n",
    "# Write a Python program to change a given string to a new string where the first and last chars have been exchanged.\n",
    "# Sample String : 'dbca'\n",
    "# Expected Result : 'abcd'\n",
    "\n",
    "sample_string = \"dbca\"\n",
    "new_string = sample_string[-1]+sample_string[1:-1]+sample_string[0]\n",
    "print(new_string)"
   ]
  },
  {
   "cell_type": "code",
   "execution_count": null,
   "metadata": {},
   "outputs": [],
   "source": [
    "# List 1\n",
    "# Color_list = [\"Red\",\"Green\",\"White\" ,\"Black\"]\n",
    "color_list = [\"Red\",\"Green\",\"White\" ,\"Black\"]\n",
    "list_count = len(color_list)\n",
    "print(f\"The first color in the list is {color_list[0]} and the last color in the list is {color_list[list_count-1]}.\")\n",
    "\n",
    "# List 2\n",
    "# Expected Output : ['Green', 'White', 'Black']\n",
    "sample_list = ['Red', 'Green', 'White', 'Black', 'Pink', 'Yellow']\n",
    "del sample_list[0]\n",
    "del sample_list[(4-1)]\n",
    "del sample_list[(5-2)]\n",
    "print(sample_list)\n",
    "\n",
    "# Dictionary 1\n",
    "# Expected Result : {0: 10, 1: 20, 2: 30}\n",
    "sample_dictionary = {0: 10, 1: 20}\n",
    "sample_dictionary[2] = 30\n",
    "print(sample_dictionary)\n",
    "\n",
    "# Dictionary 2\n",
    "# Write a Python program to sum all the items in a dictionary.\n",
    "print(f\"Sample dictionary: {sample_dictionary}\")\n",
    "total_sum = sum(sample_dictionary.values())\n",
    "print(f\"Total sum of all the items in a dictionary is {total_sum}.\")\n",
    "\n",
    "# String 1\n",
    "# Expected Result : 'xyc abz'\n",
    "\n",
    "string_1 = \"abc\"\n",
    "string_2 = \"xyz\"\n",
    "newstring_1 = string_2[:-2]+string_1[-1]\n",
    "newstring_2 = string_1[:-2]+string_2[-1]\n",
    "print(f\"{newstring_1} {newstring_2}\")\n",
    "\n",
    "# String 2\n",
    "# Expected Result : 'abcd'\n",
    "\n",
    "sample_string = \"dbca\"\n",
    "new_string = sample_string[-1]+sample_string[1:-1]+sample_string[0]\n",
    "print(new_string)"
   ]
  }
 ],
 "metadata": {
  "kernelspec": {
   "display_name": "Python 3.9.12 ('base')",
   "language": "python",
   "name": "python3"
  },
  "language_info": {
   "codemirror_mode": {
    "name": "ipython",
    "version": 3
   },
   "file_extension": ".py",
   "mimetype": "text/x-python",
   "name": "python",
   "nbconvert_exporter": "python",
   "pygments_lexer": "ipython3",
   "version": "3.9.12"
  },
  "orig_nbformat": 4,
  "vscode": {
   "interpreter": {
    "hash": "690fcc030dbde6f3f652c519b06a0d95da528e66105ed58c88e506e5818277cb"
   }
  }
 },
 "nbformat": 4,
 "nbformat_minor": 2
}
