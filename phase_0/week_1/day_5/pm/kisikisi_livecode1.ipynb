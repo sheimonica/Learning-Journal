{
 "cells": [
  {
   "cell_type": "markdown",
   "metadata": {},
   "source": [
    "Soal latihan untuk persiapan Live Code 1\n",
    "Kisi-kisi apa saja yang akan keluar:\n",
    "\n",
    "- Load data pandas menggunakan pd.read_csv, pd.read_excel. Sebagai latihan, bisa gunakan data-data di repo ini.\n",
    "- Pembuatan dan penggunaan fungsi\n",
    "- Pandas Query/Filtering\n",
    "- For loop dan conditional if yang diterapkan pada pandas\n",
    "- Akses row dataframe pandas menggunakan loc/iloc\n",
    "- Akses kolom dataframe pandas\n",
    "- Penggunaan method di dataframe/series pandas terutama method agregat (rata-rata, min, max, count, std, dll)"
   ]
  },
  {
   "cell_type": "code",
   "execution_count": 3,
   "metadata": {},
   "outputs": [
    {
     "name": "stdout",
     "output_type": "stream",
     "text": [
      "Dengan tinggi jajargenjang 6 dan alas jajargenjang 5, luas jajargenjang adalah 30\n"
     ]
    }
   ],
   "source": [
    "#1. Buatlah dua fungsi untuk menghitung luas persegi dan jajargenjang\n",
    "\n",
    "def square_area ():\n",
    "    side = int(input(\"Masukan sisi persegi: \"))\n",
    "    s_area = (side * side)\n",
    "    print (f\"Dengan sisi persegi {side}, luas persegi adalah {s_area}\")\n",
    "\n",
    "def parallelogram_area ():\n",
    "    height = int(input(\"Masukan tinggi jajargenjang: \"))\n",
    "    base = int(input(\"Masukan alas jajargenjang: \"))\n",
    "    p_area = (height * base)\n",
    "    print (f\"Dengan tinggi jajargenjang {height} dan alas jajargenjang {base}, luas jajargenjang adalah {p_area}\")\n"
   ]
  },
  {
   "cell_type": "code",
   "execution_count": 23,
   "metadata": {},
   "outputs": [
    {
     "name": "stdout",
     "output_type": "stream",
     "text": [
      "[75, 656, 24, 25, 42, 225, 36, 400, 3136, 2, 1764, 63]\n",
      "    sisi1  sisi2  Luas\n",
      "0       5     15    75\n",
      "1       8     82   656\n",
      "2       2     12    24\n",
      "3       5      5    25\n",
      "4       7      6    42\n",
      "5      15     15   225\n",
      "6       6      6    36\n",
      "7      20      4   400\n",
      "8      56     27  3136\n",
      "9       1      2     2\n",
      "10     42      4  1764\n",
      "11      7      9    63\n"
     ]
    }
   ],
   "source": [
    "# Dengan data berikut, buatlah kolom baru yang bernama luas yang menyimpan hasil perhitungan luas persegi dan jajargenjang, \n",
    "# dimana untuk kolom sisi1 yang nilainya lebih dari 10 akan dihitung luas persegi, dan kurang dari 10 dihitung jajargenjang. \n",
    "# (Hint: Gunakan for loop dan if statement untuk mengerjakan nomor 2, kamu bisa menggunakan list untuk menyimpan perhitungan sementara, setelahnya dapat dimasukkan ke kolom luas).\n",
    "\n",
    "import pandas as pd\n",
    "\n",
    "data = pd.DataFrame({'sisi1':[5,8,2,5,7,15,6,20,56,1,42,7],'sisi2':[15,82,12,5,6,15,6,4,27,2,4,9]})\n",
    "\n",
    "side_1 = data[\"sisi1\"]\n",
    "side_2 = data[\"sisi2\"]\n",
    "area = []\n",
    "y_count = 0\n",
    "\n",
    "for x in side_1:\n",
    "    y = side_2[y_count]\n",
    "    if x > 10:\n",
    "        sq_area = (x * x)\n",
    "        area.append(sq_area)\n",
    "    else:\n",
    "        pl_area = (x * y)\n",
    "        area.append(pl_area)\n",
    "    x += 1\n",
    "    y_count += 1\n",
    "\n",
    "print(area)\n",
    "data[\"Luas\"] = area\n",
    "print (data)\n"
   ]
  },
  {
   "cell_type": "code",
   "execution_count": 30,
   "metadata": {},
   "outputs": [
    {
     "name": "stdout",
     "output_type": "stream",
     "text": [
      "[75, 25, 225, 400, 3136, 1764, 63]\n"
     ]
    },
    {
     "data": {
      "text/plain": [
       "1104.867782282808"
      ]
     },
     "execution_count": 30,
     "metadata": {},
     "output_type": "execute_result"
    }
   ],
   "source": [
    "#Hitung standar deviasi (.std) kolom luas dimana sisi1 lebih dari 10 dan atau sisi 2 ganjil\n",
    "\n",
    "import numpy as np\n",
    "import pandas as pd\n",
    "\n",
    "data = pd.DataFrame({'sisi1':[5,8,2,5,7,15,6,20,56,1,42,7],'sisi2':[15,82,12,5,6,15,6,4,27,2,4,9]})\n",
    "\n",
    "side_1 = data[\"sisi1\"]\n",
    "side_2 = data[\"sisi2\"]\n",
    "area = []\n",
    "std_list = []\n",
    "y_count = 0\n",
    "\n",
    "for x in side_1:\n",
    "    y = side_2[y_count]\n",
    "    if x > 10:\n",
    "        sq_area = (x * x)\n",
    "        area.append(sq_area)\n",
    "        std_list.append(sq_area)\n",
    "    else:\n",
    "        pl_area = (x * y)\n",
    "        area.append(pl_area)\n",
    "        if (y % 2) != 0:\n",
    "            std_list.append(pl_area)\n",
    "\n",
    "    x += 1\n",
    "    y_count += 1\n",
    "\n",
    "#print(area)\n",
    "#data[\"Luas\"] = area\n",
    "#print (std_list)\n",
    "#print (data)\n",
    "print(std_list)\n",
    "np.std(std_list)\n"
   ]
  }
 ],
 "metadata": {
  "kernelspec": {
   "display_name": "Python 3.9.12 ('base')",
   "language": "python",
   "name": "python3"
  },
  "language_info": {
   "codemirror_mode": {
    "name": "ipython",
    "version": 3
   },
   "file_extension": ".py",
   "mimetype": "text/x-python",
   "name": "python",
   "nbconvert_exporter": "python",
   "pygments_lexer": "ipython3",
   "version": "3.9.12"
  },
  "orig_nbformat": 4,
  "vscode": {
   "interpreter": {
    "hash": "690fcc030dbde6f3f652c519b06a0d95da528e66105ed58c88e506e5818277cb"
   }
  }
 },
 "nbformat": 4,
 "nbformat_minor": 2
}
