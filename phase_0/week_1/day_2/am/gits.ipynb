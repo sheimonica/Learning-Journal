{
 "cells": [
  {
   "cell_type": "markdown",
   "metadata": {},
   "source": [
    "Git is a Version Control System (VCS) designed to make it easier to have multiple versions of a code base, sometimes across multiple developers or teams.It allows you to see changes you make to your code and easily revert them.\n",
    "\n",
    "Github.com is a website that hosts git repositories on a remote server.Github facilitates the sharing of codebases among teams by providing a GUI to easily fork or clone repos to a local machine. By pushing your repositories to Github, you will pretty much automatically create your own developer portfolio as well."
   ]
  },
  {
   "cell_type": "markdown",
   "metadata": {},
   "source": [
    "working Directory is where you code stuff\n",
    "Put in Staging Area first before posting it in .git repository\n",
    "\n",
    "-git init - plant seed in the pc\n",
    "-git remote - to connect to the url\n",
    "\n",
    "in order:\n",
    "-git add - pick the files to send\n",
    "-git commit\n",
    "-git push - send to git repo\n"
   ]
  },
  {
   "cell_type": "markdown",
   "metadata": {},
   "source": []
  }
 ],
 "metadata": {
  "kernelspec": {
   "display_name": "Python 3.9.12 ('base')",
   "language": "python",
   "name": "python3"
  },
  "language_info": {
   "codemirror_mode": {
    "name": "ipython",
    "version": 3
   },
   "file_extension": ".py",
   "mimetype": "text/x-python",
   "name": "python",
   "nbconvert_exporter": "python",
   "pygments_lexer": "ipython3",
   "version": "3.9.12"
  },
  "orig_nbformat": 4,
  "vscode": {
   "interpreter": {
    "hash": "690fcc030dbde6f3f652c519b06a0d95da528e66105ed58c88e506e5818277cb"
   }
  }
 },
 "nbformat": 4,
 "nbformat_minor": 2
}
