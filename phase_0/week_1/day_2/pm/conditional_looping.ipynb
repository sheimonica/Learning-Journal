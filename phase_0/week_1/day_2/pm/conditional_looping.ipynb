{
 "cells": [
  {
   "cell_type": "code",
   "execution_count": 31,
   "metadata": {},
   "outputs": [
    {
     "name": "stdout",
     "output_type": "stream",
     "text": [
      "5\n"
     ]
    }
   ],
   "source": [
    "#variable\n",
    "x = 5\n",
    "print (x)"
   ]
  },
  {
   "cell_type": "markdown",
   "metadata": {},
   "source": [
    "- if (condition)\n",
    "- for (condition)\n",
    "- while (loop)\n",
    "- def (function)"
   ]
  },
  {
   "cell_type": "code",
   "execution_count": 32,
   "metadata": {},
   "outputs": [
    {
     "name": "stdout",
     "output_type": "stream",
     "text": [
      "5\n",
      "yes\n"
     ]
    }
   ],
   "source": [
    "if True:\n",
    "    print(x)\n",
    "\n",
    "nomor = 20\n",
    "if nomor > 10:\n",
    "    print (\"yes\")"
   ]
  },
  {
   "cell_type": "code",
   "execution_count": 33,
   "metadata": {},
   "outputs": [
    {
     "name": "stdout",
     "output_type": "stream",
     "text": [
      "30 sama dengan 30\n"
     ]
    }
   ],
   "source": [
    "nomor = 30\n",
    "\n",
    "if nomor > 30:\n",
    "    print (f\"{nomor} diatas 30\")\n",
    "elif nomor == 30:\n",
    "    print (f\"{nomor} sama dengan 30\")\n",
    "else:\n",
    "    print (f\"{nomor} dibawah 30\")    \n"
   ]
  },
  {
   "cell_type": "code",
   "execution_count": 34,
   "metadata": {},
   "outputs": [],
   "source": [
    "nilai = eval(input(\"Masukan nilai anda:\" ))\n",
    "\n",
    "if 80 <= nilai <= 100:\n",
    "    print(\"nilai anda A\")\n",
    "elif 70 <= nilai <= 80:\n",
    "    print(\"nilai anda B\")\n",
    "elif 60 <= nilai <= 70:\n",
    "    print(\"nilai anda C\")\n",
    "elif 40 <= nilai <= 60:\n",
    "    print(\"nilai anda D\")\n",
    "else:\n",
    "    print(\"nilai anda E\")"
   ]
  },
  {
   "cell_type": "code",
   "execution_count": null,
   "metadata": {},
   "outputs": [
    {
     "name": "stdout",
     "output_type": "stream",
     "text": [
      "nilai anda tidak valid\n"
     ]
    }
   ],
   "source": [
    "nilai = eval(input(\"Masukan nilai anda:\" ))\n",
    "\n",
    "if 0 <= nilai <= 100:\n",
    "    if 80 <= nilai <= 100:\n",
    "        print(\"nilai anda A\")\n",
    "    elif 70 <= nilai <= 80:\n",
    "        print(\"nilai anda B\")\n",
    "    elif 60 <= nilai <= 70:\n",
    "        print(\"nilai anda C\")\n",
    "    elif 40 <= nilai <= 60:\n",
    "        print(\"nilai anda D\")\n",
    "    else:\n",
    "        print(\"nilai anda E\")\n",
    "else:\n",
    "    print(\"nilai anda tidak valid\")"
   ]
  },
  {
   "cell_type": "code",
   "execution_count": null,
   "metadata": {},
   "outputs": [
    {
     "name": "stdout",
     "output_type": "stream",
     "text": [
      "0\n",
      "1\n",
      "2\n",
      "3\n",
      "4\n"
     ]
    }
   ],
   "source": [
    "# While Looping\n",
    "\n",
    "i = 0\n",
    "while i < 5:\n",
    "    print(i)\n",
    "    i += 1"
   ]
  },
  {
   "cell_type": "code",
   "execution_count": null,
   "metadata": {},
   "outputs": [
    {
     "name": "stdout",
     "output_type": "stream",
     "text": [
      "5 x 1 = 5\n",
      "5 x 2 = 10\n",
      "5 x 3 = 15\n",
      "5 x 4 = 20\n",
      "5 x 5 = 25\n",
      "5 x 6 = 30\n",
      "5 x 7 = 35\n",
      "5 x 8 = 40\n",
      "5 x 9 = 45\n",
      "5 x 10 = 50\n"
     ]
    }
   ],
   "source": [
    "#loops\n",
    "\n",
    "i = 1\n",
    "while i < 11:\n",
    "    print (f\"5 x {i} = {5*i}\")\n",
    "    i += 1\n"
   ]
  },
  {
   "cell_type": "code",
   "execution_count": null,
   "metadata": {},
   "outputs": [
    {
     "name": "stdout",
     "output_type": "stream",
     "text": [
      "5 x 1 = 5\n",
      "5 x 2 = 10\n",
      "5 x 3 = 15\n",
      "5 x 4 = 20\n",
      "5 x 5 = 25\n",
      "5 x 6 = 30\n",
      "5 x 7 = 35\n",
      "5 x 8 = 40\n",
      "5 x 9 = 45\n",
      "5 x 10 = 50\n",
      "[1, 2, 3, 4, 5, 6, 7, 8, 9, 10]\n"
     ]
    }
   ],
   "source": [
    "for i in range(1,11):\n",
    "    print (f\"5 x {i} = {5*i}\")\n",
    "\n",
    "num = list(range(1,11))\n",
    "print (num)"
   ]
  },
  {
   "cell_type": "code",
   "execution_count": null,
   "metadata": {},
   "outputs": [
    {
     "name": "stdout",
     "output_type": "stream",
     "text": [
      "0\n",
      "1\n",
      "3\n",
      "4\n",
      "5\n",
      "8\n",
      "10\n"
     ]
    }
   ],
   "source": [
    "#flow control statement\n",
    "\n",
    "#continue\n",
    "for i in range(0,11):\n",
    "    if i in [2, 6, 7, 9]:\n",
    "        continue\n",
    "    print(i)\n",
    "\n",
    "#break"
   ]
  },
  {
   "cell_type": "code",
   "execution_count": 6,
   "metadata": {},
   "outputs": [
    {
     "name": "stdout",
     "output_type": "stream",
     "text": [
      "dict_keys(['rafif', 'dwi', 'ezar'])\n",
      "dict_values([70, 80, 85])\n",
      "dict_items([('rafif', 70), ('dwi', 80), ('ezar', 85)])\n",
      "rafif dengan nilai 70\n",
      "dwi dengan nilai 80\n",
      "ezar dengan nilai 85\n"
     ]
    },
    {
     "data": {
      "text/plain": [
       "{'rafif': 'B', 'dwi': 'A', 'ezar': 'A'}"
      ]
     },
     "execution_count": 6,
     "metadata": {},
     "output_type": "execute_result"
    }
   ],
   "source": [
    "d = {'rafif': 70, 'dwi': 80, 'ezar': 85}\n",
    "print(d.keys())\n",
    "print(d.values())\n",
    "print(d.items())\n",
    "\n",
    "for nama, nilai in d.items():\n",
    "  print(nama, 'dengan nilai', nilai)\n",
    "\n",
    "grade = {}\n",
    "\n",
    "for nama, x in d.items():\n",
    "  if 0 <= x <= 100:\n",
    "    if 80 <= x:\n",
    "      grade[nama] = 'A'\n",
    "    elif 70 <= x:\n",
    "      grade[nama] = 'B'\n",
    "    elif x >= 60:\n",
    "      grade[nama] = 'C'\n",
    "    elif x >= 40:\n",
    "      grade[nama] = 'D'\n",
    "    else:\n",
    "      grade[nama] = 'E'\n",
    "  else:\n",
    "    print('Angka tidak valid')\n",
    "\n",
    "grade"
   ]
  }
 ],
 "metadata": {
  "kernelspec": {
   "display_name": "Python 3.9.12 ('base')",
   "language": "python",
   "name": "python3"
  },
  "language_info": {
   "codemirror_mode": {
    "name": "ipython",
    "version": 3
   },
   "file_extension": ".py",
   "mimetype": "text/x-python",
   "name": "python",
   "nbconvert_exporter": "python",
   "pygments_lexer": "ipython3",
   "version": "3.9.12"
  },
  "orig_nbformat": 4,
  "vscode": {
   "interpreter": {
    "hash": "690fcc030dbde6f3f652c519b06a0d95da528e66105ed58c88e506e5818277cb"
   }
  }
 },
 "nbformat": 4,
 "nbformat_minor": 2
}
