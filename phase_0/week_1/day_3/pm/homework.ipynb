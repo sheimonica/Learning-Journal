{
 "cells": [
  {
   "cell_type": "code",
   "execution_count": 5,
   "metadata": {},
   "outputs": [],
   "source": [
    "import numpy as np"
   ]
  },
  {
   "cell_type": "code",
   "execution_count": 12,
   "metadata": {},
   "outputs": [
    {
     "name": "stdout",
     "output_type": "stream",
     "text": [
      "Kata apa tidak terdapat pada kalimat ini.\n"
     ]
    }
   ],
   "source": [
    "def word_detection(kata, kalimat):\n",
    "    kata_pos = 0\n",
    "    keywords = np.array(kalimat.split(\" \"))\n",
    "    for k in range (0, len(keywords)):\n",
    "        if kata == keywords[k]:\n",
    "            kata_pos = k + 1\n",
    "    \n",
    "    if kata_pos>0:\n",
    "        print(f\"Kata {kata} berada di kata ke-{kata_pos} pada kalimat ini.\")\n",
    "    else:\n",
    "        print(f\"Kata {kata} tidak terdapat pada kalimat ini.\")\n",
    "\n",
    "word_detection(\"apa\", \"kamu siapa namanya?\")"
   ]
  }
 ],
 "metadata": {
  "kernelspec": {
   "display_name": "Python 3.9.12 ('base')",
   "language": "python",
   "name": "python3"
  },
  "language_info": {
   "codemirror_mode": {
    "name": "ipython",
    "version": 3
   },
   "file_extension": ".py",
   "mimetype": "text/x-python",
   "name": "python",
   "nbconvert_exporter": "python",
   "pygments_lexer": "ipython3",
   "version": "3.9.12"
  },
  "orig_nbformat": 4,
  "vscode": {
   "interpreter": {
    "hash": "690fcc030dbde6f3f652c519b06a0d95da528e66105ed58c88e506e5818277cb"
   }
  }
 },
 "nbformat": 4,
 "nbformat_minor": 2
}
