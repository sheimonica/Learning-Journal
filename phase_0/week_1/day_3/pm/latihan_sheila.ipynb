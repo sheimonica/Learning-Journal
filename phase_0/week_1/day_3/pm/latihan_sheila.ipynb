{
 "cells": [
  {
   "cell_type": "code",
   "execution_count": 2,
   "metadata": {},
   "outputs": [],
   "source": [
    "#import numpy\n",
    "import numpy as np"
   ]
  },
  {
   "cell_type": "code",
   "execution_count": 16,
   "metadata": {},
   "outputs": [
    {
     "data": {
      "text/plain": [
       "array([1, 2, 3, 4, 5, 6, 7, 8])"
      ]
     },
     "execution_count": 16,
     "metadata": {},
     "output_type": "execute_result"
    }
   ],
   "source": [
    "# Perubahan dari List ke Array\n",
    "# Python arrays are a data structure like lists\n",
    "# np.array()\n",
    "\n",
    "a = [1, 2, 3, 4, 5]\n",
    "np.array(a)\n",
    "\n",
    "arr = np.array([1, 2, 3, 4, 5, 6, 7, 8])\n",
    "np.append(arr, [1,2])\n",
    "# array([1, 2, 3, 4, 5, 6, 7, 8, 1, 2])\n",
    "\n",
    "arr = np.array([1, 2, 3, 4, 5, 6, 7, 8])\n",
    "np.delete(arr, 1)\n",
    "# array([1, 3, 4, 5, 6, 7, 8])\n",
    "\n",
    "arr = np.array([2, 1, 5, 3, 7, 4, 6, 8])\n",
    "np.sort(arr)\n",
    "# array([1, 2, 3, 4, 5, 6, 7, 8])"
   ]
  },
  {
   "cell_type": "code",
   "execution_count": 10,
   "metadata": {},
   "outputs": [
    {
     "name": "stdout",
     "output_type": "stream",
     "text": [
      "[[0 1 2 3]\n",
      " [4 5 6 7]]\n"
     ]
    },
    {
     "data": {
      "text/plain": [
       "2"
      ]
     },
     "execution_count": 10,
     "metadata": {},
     "output_type": "execute_result"
    }
   ],
   "source": [
    "# Membuat Array 2D\n",
    "# Lihat seberapa banyak kurung siku di awal untuk menentukan jumlah dimensi atau .ndim\n",
    "array_example = np.array([[0, 1, 2, 3],[4, 5, 6, 7]])\n",
    "print(array_example)\n",
    "array_example.ndim\n"
   ]
  },
  {
   "cell_type": "code",
   "execution_count": 18,
   "metadata": {},
   "outputs": [
    {
     "name": "stdout",
     "output_type": "stream",
     "text": [
      "[[0 1 2 3]\n",
      " [4 5 6 7]]\n"
     ]
    },
    {
     "data": {
      "text/plain": [
       "(2, 4)"
      ]
     },
     "execution_count": 18,
     "metadata": {},
     "output_type": "execute_result"
    }
   ],
   "source": [
    "# Menentukan ukuran suatu array\n",
    "# .shape\n",
    "\n",
    "array_example = np.array([[0, 1, 2, 3],[4, 5, 6, 7]])\n",
    "print(array_example)\n",
    "array_example.shape"
   ]
  },
  {
   "cell_type": "code",
   "execution_count": 12,
   "metadata": {},
   "outputs": [
    {
     "name": "stdout",
     "output_type": "stream",
     "text": [
      "[[0 1 2 3]\n",
      " [4 5 6 7]]\n"
     ]
    },
    {
     "data": {
      "text/plain": [
       "8"
      ]
     },
     "execution_count": 12,
     "metadata": {},
     "output_type": "execute_result"
    }
   ],
   "source": [
    "# Menentukan jumlah total elemen suatu array\n",
    "# .size\n",
    "\n",
    "array_example = np.array([[0, 1, 2, 3],[4, 5, 6, 7]])\n",
    "print(array_example)\n",
    "array_example.size"
   ]
  },
  {
   "cell_type": "code",
   "execution_count": 19,
   "metadata": {},
   "outputs": [
    {
     "name": "stdout",
     "output_type": "stream",
     "text": [
      "[0 1 2 3 4 5]\n",
      "[[0 1]\n",
      " [2 3]\n",
      " [4 5]]\n",
      "[0 1 2]\n",
      "[0 2 4]\n"
     ]
    }
   ],
   "source": [
    "# Indexing & Slicing\n",
    "# Mengubah urutan array 1D dari belakang ke depan (Descending)\n",
    "\n",
    "a = np.arange(6)\n",
    "print(a) \n",
    "# [0 1 2 3 4 5]\n",
    "\n",
    "b = a.reshape(3,2)\n",
    "print(b) \n",
    "# output:[[0 1] [2 3] [4 5]]\n",
    "\n",
    "a = np.arange(6)\n",
    "print(a[0:3]) # [0 1 2]\n",
    "print(a[::2]) # [0 2 4]"
   ]
  },
  {
   "cell_type": "code",
   "execution_count": 62,
   "metadata": {},
   "outputs": [
    {
     "name": "stdout",
     "output_type": "stream",
     "text": [
      "[11. 21. 31. 41. 51.]\n"
     ]
    }
   ],
   "source": [
    "# NOMOR 1\n",
    "# Buatlah sebuah array seperti dibawah ini dan tambahkan setiap elemennya dengan `1`.\n",
    "# a = [10, 20, 30, 40, 50]\n",
    "\n",
    "a = [10, 20, 30, 40, 50]\n",
    "a = np.array(a)\n",
    "a\n",
    "\n",
    "# cara 1 - skalar\n",
    "a + 1\n",
    "\n",
    "# Cara 2 : Menambahkan dengan \"Special Array\"\n",
    "print(a+np.ones(5))"
   ]
  },
  {
   "cell_type": "code",
   "execution_count": 32,
   "metadata": {},
   "outputs": [
    {
     "data": {
      "text/plain": [
       "array([-3, -2, -4])"
      ]
     },
     "execution_count": 32,
     "metadata": {},
     "output_type": "execute_result"
    }
   ],
   "source": [
    "# NOMOR 2\n",
    "b = [-3, 0, -2, 1, 2, 3, -4]\n",
    "\n",
    "# buat array\n",
    "b = np.array(b)\n",
    "b\n",
    "\n",
    "# Jika `b < 0` maka hanya akan dilakukan pengecekan apakah element di `b` kurang dari 0 atau tidak\n",
    "b<0\n",
    "\n",
    "# Jika `b[b < 0]` maka element di `b` kurang dari 0 akan ditampilkan\n",
    "b[b<0]"
   ]
  },
  {
   "cell_type": "code",
   "execution_count": 45,
   "metadata": {},
   "outputs": [
    {
     "data": {
      "text/plain": [
       "array([10,  7,  5,  5,  4])"
      ]
     },
     "execution_count": 45,
     "metadata": {},
     "output_type": "execute_result"
    }
   ],
   "source": [
    "# NOMOR 3\n",
    "c = [10, -8, 4, 5, -41, 7, 5, -4]\n",
    "\n",
    "# Buat array\n",
    "c = np.array(c)\n",
    "c\n",
    "\n",
    "# Sort elemen dari bilangan kecil ke besar\n",
    "# np.sort(nama_array)\n",
    "c = np.sort(c)\n",
    "c\n",
    "\n",
    "c = np.sort(c[c>0])[::1]\n",
    "c\n",
    "\n",
    "\n",
    "# Sort elemen dari bilangan besar ke kecil\n",
    "# sort dan Slicing dengan step = -1\n",
    "c = np.sort(c[c>0])[::-1]\n",
    "c"
   ]
  },
  {
   "cell_type": "code",
   "execution_count": 47,
   "metadata": {},
   "outputs": [
    {
     "name": "stdout",
     "output_type": "stream",
     "text": [
      "[ 1  2  3  4  5  6  7  8  9 10]\n",
      "[[ 1  2  3  4  5]\n",
      " [ 6  7  8  9 10]]\n"
     ]
    }
   ],
   "source": [
    "# NOMOR 4\n",
    "# Buatlah array seperti dibawah ini kemudian tumpukkan secara horizontal dan vertikal satu sama lain.\n",
    "\n",
    "d = [1, 2, 3, 4, 5]\n",
    "e = [6, 7, 8, 9, 10]\n",
    "\n",
    "# Buat array\n",
    "d = np.array(d)\n",
    "e = np.array(e)\n",
    "\n",
    "# Stacking Horizontal -> np.hstack((array1,array2))\n",
    "# Stacking Vertikal -> np.vstack((array1,array2))\n",
    "f = np.hstack((d,e))\n",
    "g = np.vstack((d,e))\n",
    "print (f)\n",
    "print (g)"
   ]
  },
  {
   "cell_type": "code",
   "execution_count": 117,
   "metadata": {},
   "outputs": [
    {
     "name": "stdout",
     "output_type": "stream",
     "text": [
      "[ 20  40  60  80 100]\n",
      "[ 30  60  90 120 150]\n"
     ]
    }
   ],
   "source": [
    "# NOMOR 5\n",
    "# Buatlah dua buah array seperti dibawah ini yang berasal dari 1 deklarasi variabel yang sama. \n",
    "# Kemudian, kalikan array pertama dengan `2` dan kalikan array kedua dengan `3`.\n",
    "\n",
    "#f = [10, 20, 30, 40, 50]\n",
    "\n",
    "# Ekspektasi output : \n",
    "# hasil perkalian dengan 2 -> [20, 40, 60, 80, 100] \n",
    "# hasil perkalian dengan 3 -> [30, 60, 90, 120, 150]\n",
    "\n",
    "# Buat array f\n",
    "f = [10, 20, 30, 40, 50]\n",
    "f = np.array(f)\n",
    "f\n",
    "# Copy array f ke variabel baru\n",
    "g = f.copy()\n",
    "g\n",
    "\n",
    "# Kalikan masing2 variabel\n",
    "f = f*2\n",
    "g = g*3\n",
    "\n",
    "print(f)\n",
    "print(g)"
   ]
  },
  {
   "cell_type": "code",
   "execution_count": 64,
   "metadata": {},
   "outputs": [
    {
     "name": "stdout",
     "output_type": "stream",
     "text": [
      "15\n",
      "[ 6 15]\n",
      "[5 7 9]\n"
     ]
    }
   ],
   "source": [
    "# NOMOR 6\n",
    "\n",
    "# Buatlah sebuah array seperti dibawah ini dan hitung total jumlahnya.\n",
    "\n",
    "h = [1, 2, 3, 4, 5]\n",
    "j = [ [1, 2, 3],\n",
    "      [4, 5, 6]]\n",
    "\n",
    "# Buat array\n",
    "h = np.array(h)\n",
    "j = np.array(j)\n",
    "\n",
    "# Ekspektasi output :\n",
    "# total nilai h = 15\n",
    "# total nilai j berdasarkan penjumlahan baris = [6, 15]\n",
    "# total nilai j berdasarkan penjumlahan kolom = [5, 7, 9]\n",
    "\n",
    "# jumlahkan array h\n",
    "# .sum()\n",
    "h = np.sum(h)\n",
    "print(h)\n",
    "\n",
    "# Penjumlahan berdasarkan baris\n",
    "# baris -> axis = 1\n",
    "print (j.sum(axis=1))\n",
    "\n",
    "# Penjumlahan berdasarkan kolom\n",
    "# kolom -> axis = 0\n",
    "print (j.sum(axis=0))\n"
   ]
  },
  {
   "cell_type": "code",
   "execution_count": 83,
   "metadata": {},
   "outputs": [
    {
     "name": "stdout",
     "output_type": "stream",
     "text": [
      "1\n",
      "[1 2 3]\n",
      "[1 4]\n",
      "6\n",
      "[4 5 6]\n",
      "[3 6]\n",
      "21\n",
      "[5 7 9]\n",
      "[ 6 15]\n"
     ]
    }
   ],
   "source": [
    "# NOMOR 7\n",
    "# Buatlah sebuah array seperti dibawah ini dan cari nilai `min`, `max`, dan `sum` per baris dan per kolom.\n",
    "\n",
    "k = [ [1, 2, 3],\n",
    "      [4, 5, 6]]\n",
    "\n",
    "# Buat array\n",
    "k = np.array(k)\n",
    "\n",
    "# Mencari nilai minimum -> .min()\n",
    "print(np.min(k))\n",
    "print (k.min(axis=0)) #column\n",
    "print (k.min(axis=1)) #row\n",
    "\n",
    "# Mencari nilai maximum - > .max()\n",
    "print(np.max(k))\n",
    "print (k.max(axis=0)) #column\n",
    "print (k.max(axis=1)) #row\n",
    "\n",
    "# Mencari nilai total -> .sum()\n",
    "print(np.sum(k))\n",
    "print (k.sum(axis=0)) #column\n",
    "print (k.sum(axis=1)) #row\n"
   ]
  },
  {
   "cell_type": "code",
   "execution_count": 105,
   "metadata": {},
   "outputs": [
    {
     "name": "stdout",
     "output_type": "stream",
     "text": [
      "5\n",
      "[4 5 6]\n",
      "[2 5 8]\n",
      "[[2]\n",
      " [5]\n",
      " [8]]\n",
      "[1 5 9]\n",
      "[3 5 7]\n"
     ]
    }
   ],
   "source": [
    "# NOMOR 8\n",
    "# Buatlah sebuah array seperti dibawah ini dan cari baris kedua dan kolom kedua.\n",
    "\n",
    "n = [ [1, 2, 3], \n",
    "      [4, 5, 6],\n",
    "      [7, 8, 9]]\n",
    "\n",
    "# Buat array\n",
    "n = np.array(n)\n",
    "\n",
    "# Get baris&Kolom\n",
    "# nama_array[baris,kolom]\n",
    "print(n[1, 1])\n",
    "\n",
    "# Get baris kedua\n",
    "# Bisa menggunakan n[1] atau n[1, :]\n",
    "print(n[1])\n",
    "\n",
    "# Get kolom kedua (menampilkan secara array 1D)\n",
    "# n[:, 1]\n",
    "print(n[:,1])\n",
    "\n",
    "# Get kolom kedua (menampilkan secara array 2D)\n",
    "# nama_array[:, [index_kolom]]\n",
    "print(n[:,[1]])\n",
    "\n",
    "# Get elemen diagonal (dari kiri ke kanan)\n",
    "# np.diag()\n",
    "print(np.diag(n))\n",
    "\n",
    "# buka dokumentasi\n",
    "# Get elemen diagonal (dari kanan ke kiri)\n",
    "# np.diag(np.fliplr(n))\n",
    "print(np.diag(np.fliplr(n)))\n"
   ]
  },
  {
   "cell_type": "code",
   "execution_count": 109,
   "metadata": {},
   "outputs": [
    {
     "name": "stdout",
     "output_type": "stream",
     "text": [
      "[4 5 6]\n",
      "[2 5 8]\n",
      "45\n",
      "15\n",
      "15\n",
      "1\n",
      "2\n",
      "4\n",
      "9\n",
      "8\n",
      "6\n"
     ]
    }
   ],
   "source": [
    "# NOMOR 9\n",
    "# Buatlah sebuah array seperti dibawah ini dan cari nilai `min`, `max`, dan `sum` untuk baris kedua dan kolom kedua.\n",
    "\n",
    "m = [ [1, 2, 3], \n",
    "      [4, 5, 6],\n",
    "      [7, 8, 9]]\n",
    "\n",
    "# Buat array\n",
    "m = np.array(m)\n",
    "\n",
    "# buat variabel yang berisikan baris ke 2\n",
    "sec_row = m[1]\n",
    "print(sec_row)\n",
    "\n",
    "# buat variabel yang berisikan kolom ke 2\n",
    "sec_col = m[:,1]\n",
    "print(sec_col)\n",
    "\n",
    "#Cari masing2 nilai sum, min, dan max\n",
    "print(np.sum(m))\n",
    "print (np.sum(sec_col)) #column\n",
    "print (np.sum(sec_row)) #row\n",
    "\n",
    "print(np.min(m))\n",
    "print (np.min(sec_col)) #column\n",
    "print (np.min(sec_row)) #row\n",
    "\n",
    "print(np.max(m))\n",
    "print (np.max(sec_col)) #column\n",
    "print (np.max(sec_row)) #row"
   ]
  },
  {
   "cell_type": "code",
   "execution_count": 116,
   "metadata": {},
   "outputs": [
    {
     "name": "stdout",
     "output_type": "stream",
     "text": [
      "Requirement already satisfied: matplotlib in d:\\programs\\anaconda\\lib\\site-packages (3.5.1)\n",
      "Requirement already satisfied: pyparsing>=2.2.1 in d:\\programs\\anaconda\\lib\\site-packages (from matplotlib) (3.0.4)\n",
      "Requirement already satisfied: cycler>=0.10 in d:\\programs\\anaconda\\lib\\site-packages (from matplotlib) (0.11.0)\n",
      "Requirement already satisfied: fonttools>=4.22.0 in d:\\programs\\anaconda\\lib\\site-packages (from matplotlib) (4.25.0)\n",
      "Requirement already satisfied: packaging>=20.0 in d:\\programs\\anaconda\\lib\\site-packages (from matplotlib) (21.3)\n",
      "Requirement already satisfied: python-dateutil>=2.7 in d:\\programs\\anaconda\\lib\\site-packages (from matplotlib) (2.8.2)\n",
      "Requirement already satisfied: pillow>=6.2.0 in d:\\programs\\anaconda\\lib\\site-packages (from matplotlib) (9.0.1)\n",
      "Requirement already satisfied: numpy>=1.17 in d:\\programs\\anaconda\\lib\\site-packages (from matplotlib) (1.21.5)\n",
      "Requirement already satisfied: kiwisolver>=1.0.1 in d:\\programs\\anaconda\\lib\\site-packages (from matplotlib) (1.3.2)\n",
      "Requirement already satisfied: six>=1.5 in d:\\programs\\anaconda\\lib\\site-packages (from python-dateutil>=2.7->matplotlib) (1.16.0)\n"
     ]
    },
    {
     "data": {
      "image/png": "[encoded data removed]",
      "text/plain": [
       "<Figure size 432x288 with 1 Axes>"
      ]
     },
     "metadata": {
      "needs_background": "light"
     },
     "output_type": "display_data"
    }
   ],
   "source": [
    "# NOMOR 10\n",
    "\n",
    "# <img src='https://i.ibb.co/JvBzgWn/greyscale.png'>\n",
    "# Download image [disini](https://i.ibb.co/JvBzgWn/greyscale.png)\n",
    "\n",
    "# * Load gambar tersebut dengan menggunakan library matplotlib.\n",
    "# * Jawab pertanyaan berikut ini : \n",
    "#  - Berapa ukuran gambar tersebut.\n",
    "#  - Berapa total piksel/element pada gambar tersebut.\n",
    "#  - Cerahkan gambar tersebut dengan menambahkan suatu angka.\n",
    "\n",
    "# Install matplotlib in jupyter\n",
    "import sys  \n",
    "!{sys.executable} -m pip install --user matplotlib\n",
    "\n",
    "#Import matplotlib\n",
    "import matplotlib.pyplot as plt\n",
    "\n",
    "#Baca gambar menggunakan plt.imread('location_gambar') lalu masukkan ke variabel\n",
    "img = plt.imread(\"greyscale.png\")\n",
    "\n",
    "#Cek ukuran gambar\n",
    "#.shape\n",
    "img.shape\n",
    "\n",
    "# Total Piksel\n",
    "#.size\n",
    "img.size\n",
    "\n",
    "#Nilai piksel\n",
    "#img, udah di scalling\n",
    "img\n",
    "\n",
    "#Memastikan tipe data menjadi array\n",
    "#np.asarray()\n",
    "img = np.asarray(img)\n",
    "type(img)\n",
    "\n",
    "#Menentukan nilai yg akan ditambahkan ke piksel\n",
    "#Ubah ke skala 0-1, divide by 255 (highest pixel value)\n",
    "added_value = 100\n",
    "added_value = 100/255\n",
    "added_value\n",
    "\n",
    "#Copy datanya dulu (penting setiap ingin memodifikasi data) ke variabel baru\n",
    "#tambahkan nilai piksel ke gambar\n",
    "new_img = img.copy()\n",
    "new_img = new_img + added_value\n",
    "\n",
    "# Menampilkan gambar original\n",
    "# `img` : array gambar\n",
    "# `cmap` : color map #figure\n",
    "# `vmin` : value minimum #figure\n",
    "# `vmax` : value maximum #figure\n",
    "#plt.imshow(nama_variabel, cmap='gray', vmin=0, vmax=1)\n",
    "plt.imshow(img, cmap='gray', vmin=0, vmax=1)\n",
    "\n",
    "# Menampilkan gambar yg sudah ditambah suatu value\n",
    "plt.imshow(new_img, cmap='gray', vmin=0, vmax=1)\n",
    "#Save fig\n",
    "# plt.savefig('new_img.png')\n",
    "plt.savefig(\"new_img.png\")"
   ]
  }
 ],
 "metadata": {
  "kernelspec": {
   "display_name": "Python 3.9.12 ('base')",
   "language": "python",
   "name": "python3"
  },
  "language_info": {
   "codemirror_mode": {
    "name": "ipython",
    "version": 3
   },
   "file_extension": ".py",
   "mimetype": "text/x-python",
   "name": "python",
   "nbconvert_exporter": "python",
   "pygments_lexer": "ipython3",
   "version": "3.9.12"
  },
  "orig_nbformat": 4,
  "vscode": {
   "interpreter": {
    "hash": "690fcc030dbde6f3f652c519b06a0d95da528e66105ed58c88e506e5818277cb"
   }
  }
 },
 "nbformat": 4,
 "nbformat_minor": 2
}
