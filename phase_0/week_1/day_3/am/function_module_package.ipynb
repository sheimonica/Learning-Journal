{
 "cells": [
  {
   "cell_type": "code",
   "execution_count": null,
   "metadata": {},
   "outputs": [],
   "source": [
    "# function\n",
    "#def function_name( parameters ):   \n",
    "#   \"docstring\"   statement(s)"
   ]
  },
  {
   "cell_type": "code",
   "execution_count": 1,
   "metadata": {},
   "outputs": [
    {
     "name": "stdout",
     "output_type": "stream",
     "text": [
      "9\n"
     ]
    }
   ],
   "source": [
    "def tambah(x,y):\n",
    "    hasil = x + y\n",
    "    print(hasil)\n",
    "\n",
    "tambah(5,4)"
   ]
  },
  {
   "cell_type": "code",
   "execution_count": 4,
   "metadata": {},
   "outputs": [
    {
     "data": {
      "text/plain": [
       "[30, 20, 10, 1, 2, 3]"
      ]
     },
     "execution_count": 4,
     "metadata": {},
     "output_type": "execute_result"
    }
   ],
   "source": [
    "mylist = [10, 20, 30]\n",
    "\n",
    "def rubahlist (number):\n",
    "    global mylist\n",
    "    mylist = number + [1, 2, 3]\n",
    "    return mylist\n",
    "\n",
    "rubahlist([30, 20, 10])"
   ]
  },
  {
   "cell_type": "code",
   "execution_count": 7,
   "metadata": {},
   "outputs": [
    {
     "name": "stdout",
     "output_type": "stream",
     "text": [
      "even number\n"
     ]
    }
   ],
   "source": [
    "a = 50\n",
    "def oddeven(a):\n",
    "    if a % 2 == 0:\n",
    "        print (\"even number\")\n",
    "    else:\n",
    "        print(\"odd number\") \n",
    "\n",
    "oddeven(int(input(\"Insert number: \")))"
   ]
  },
  {
   "cell_type": "code",
   "execution_count": 11,
   "metadata": {},
   "outputs": [
    {
     "name": "stdout",
     "output_type": "stream",
     "text": [
      "True\n"
     ]
    }
   ],
   "source": [
    "x = input (\"Masukan kata Hacktiv8 \").capitalize()\n",
    "def detect (x):\n",
    "    if x == \"Hacktiv8\":\n",
    "        print(True)\n",
    "    else:\n",
    "        print(False)\n",
    "\n",
    "detect(x)"
   ]
  },
  {
   "cell_type": "code",
   "execution_count": 12,
   "metadata": {},
   "outputs": [
    {
     "data": {
      "text/plain": [
       "True"
      ]
     },
     "execution_count": 12,
     "metadata": {},
     "output_type": "execute_result"
    }
   ],
   "source": [
    "def deteksi(a):\n",
    "    return \"hacktiv8\" in a.lower()\n",
    "\n",
    "deteksi (\"HACKTIV8\")"
   ]
  },
  {
   "cell_type": "code",
   "execution_count": 16,
   "metadata": {},
   "outputs": [
    {
     "name": "stdout",
     "output_type": "stream",
     "text": [
      "BMI anda adalah 25.39!\n"
     ]
    }
   ],
   "source": [
    "w = float(input(\"Masukan berat badan (kg): \"))\n",
    "h = float(input(\"Masukan tinggi badan (cm): \"))\n",
    "h *= 0.01\n",
    "\n",
    "def bmi(w, h):\n",
    "    calc = round((w/(h**2)), 1)\n",
    "    if calc < 18.5:\n",
    "        print(f\"BMI anda adalah {calc}, anda underweight!\")\n",
    "    elif 18.5 <= calc <= 24.9:\n",
    "        print(f\"BMI anda adalah {calc}, anda normal!\")\n",
    "    elif 25 <= calc <= 29.9:\n",
    "        print(f\"BMI anda adalah {calc}, anda overweight!\")\n",
    "    else:\n",
    "        print(f\"BMI anda adalah {calc}, anda very overweight!\")\n",
    "\n",
    "bmi(w,h)"
   ]
  },
  {
   "cell_type": "code",
   "execution_count": 17,
   "metadata": {},
   "outputs": [
    {
     "ename": "SyntaxError",
     "evalue": "invalid syntax (2588822428.py, line 9)",
     "output_type": "error",
     "traceback": [
      "\u001b[1;36m  Input \u001b[1;32mIn [17]\u001b[1;36m\u001b[0m\n\u001b[1;33m    from pack1\u001b[0m\n\u001b[1;37m              ^\u001b[0m\n\u001b[1;31mSyntaxError\u001b[0m\u001b[1;31m:\u001b[0m invalid syntax\n"
     ]
    }
   ],
   "source": [
    "#module & package\n",
    "\n",
    "__init__.py\n",
    "from .berhitung import tambah, kurang\n",
    "from .bmi import *\n",
    "\n",
    "import pack1\n",
    "\n",
    "berhitung.kurang(1,2)\n",
    "berhitung.tambah(1,2)\n",
    "\n",
    "from pack1.pack2 import\n",
    "pack1.tambah()\n",
    "print(pack1.kurang())"
   ]
  },
  {
   "cell_type": "code",
   "execution_count": null,
   "metadata": {},
   "outputs": [],
   "source": []
  }
 ],
 "metadata": {
  "kernelspec": {
   "display_name": "Python 3.9.12 ('base')",
   "language": "python",
   "name": "python3"
  },
  "language_info": {
   "codemirror_mode": {
    "name": "ipython",
    "version": 3
   },
   "file_extension": ".py",
   "mimetype": "text/x-python",
   "name": "python",
   "nbconvert_exporter": "python",
   "pygments_lexer": "ipython3",
   "version": "3.9.12"
  },
  "orig_nbformat": 4,
  "vscode": {
   "interpreter": {
    "hash": "690fcc030dbde6f3f652c519b06a0d95da528e66105ed58c88e506e5818277cb"
   }
  }
 },
 "nbformat": 4,
 "nbformat_minor": 2
}
