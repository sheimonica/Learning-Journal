{
 "cells": [
  {
   "cell_type": "markdown",
   "metadata": {},
   "source": [
    "## Group By"
   ]
  },
  {
   "cell_type": "code",
   "execution_count": null,
   "metadata": {},
   "outputs": [],
   "source": [
    "#-- dosen dengan nama depan sam-\n",
    "#SELECT *\n",
    "#FROM teachers\n",
    "#WHERE first_name LIKE \"Sam%\";\n",
    "\n",
    "#-- dosen dengan nama depan -sam\n",
    "#SELECT *\n",
    "#FROM teachers\n",
    "#WHERE first_name LIKE \"%sam\";\n",
    "\n",
    "#-- dosen dengan nama depan mengandung -sam-\n",
    "#SELECT *\n",
    "#FROM teachers\n",
    "#WHERE first_name LIKE \"%sam\";\n",
    "\n",
    "#-- dosen max gaji\n",
    "#SELECT max(salary)\n",
    "#FROM teachers;\n",
    "\n",
    "#-- rata rata gaji dosen\n",
    "#SELECT avg(salary)\n",
    "#FROM teachers;\n",
    "\n",
    "#-- rata rata gaji dosen pembulatan kebawah\n",
    "#SELECT floor(AVG(salary))\n",
    "#FROM teachers;\n",
    "\n",
    "#-- rata rata gaji dosen pembulatan keatas\n",
    "#SELECT ceil(AVG(salary))\n",
    "#FROM teachers;\n",
    "\n",
    "#-- dosen max gaji\n",
    "#-- cara #1, salah program running tapi tidak valid\n",
    "#SELECT first_name, last_name, MAX(salary)\n",
    "#from teachers\n",
    "\n",
    "#-- cara #2, salah program tidak running\n",
    "#SELECT first_name, last_name\n",
    "#from teachers\n",
    "#WHERE salary=MAX(salary);\n",
    "\n",
    "#-- cara #3 subquerry\n",
    "#SELECT first_name, last_name\n",
    "#from teachers\n",
    "#WHERE salary=(\n",
    "#  select max(salary)\n",
    "#  from teachers);\n",
    "\n",
    "#-- dosen max gaji dari stanford\n",
    "#SELECT first_name, last_name\n",
    "#from teachers\n",
    "#WHERE salary=(\n",
    "#  select max(salary)\n",
    "#  from teachers) AND school=\"Standford University\";"
   ]
  },
  {
   "cell_type": "markdown",
   "metadata": {},
   "source": [
    "## Joining"
   ]
  },
  {
   "cell_type": "markdown",
   "metadata": {},
   "source": [
    "- Inner join = join yang di dua duanya ada\n",
    "- Left join = Join yang di kiri\n",
    "- Right join = join yang di kanan\n",
    "- Outer join = union join between kiri dan kanan"
   ]
  },
  {
   "cell_type": "code",
   "execution_count": null,
   "metadata": {},
   "outputs": [],
   "source": [
    "#-- penggabungan table teachers dengan courses\n",
    "#SELECT *\n",
    "#FROM teachers\n",
    "#JOIN courses ON teachers.id=courses.teachers_id;\n",
    "\n",
    "#-- melihat dosen yang mengajar calculus\n",
    "#SELECT *\n",
    "#FROM teachers\n",
    "#JOIN courses ON teachers.id=courses.teachers_id\n",
    "#WHERE courses.name=\"calculus\";\n",
    "\n",
    "#select di teachers jadi komponen teachers semuanya di tunjukan\n",
    "#sementara komponen courses hanya yang inner join\n",
    "\n",
    "#-- melihat jumlah matkul di setiap universitas\n",
    "#SELECT teachers.school, count(courses.name) AS \"Total Matkul\"\n",
    "#FROM teachers\n",
    "#JOIN courses ON teachers.id=courses.teachers_id\n",
    "#GROUP by teachers.school;\n",
    "\n",
    "#-- melihat universitas apa saja yang total matkulnya lebih dari 3\n",
    "#SELECT teachers.school, count(courses.name) AS total_matkul\n",
    "#FROM teachers\n",
    "#JOIN courses ON teachers.id=courses.teachers_id\n",
    "#GROUP by teachers.school\n",
    "#HAVING total_matkul>3;\n",
    "\n",
    "#SELECT teachers.first_name, COUNT(courses.name) AS total_matkul\n",
    "#FROM teachers\n",
    "#JOIN courses ON teachers.id=courses.teachers_id\n",
    "#GROUP by teachers.first_name\n",
    "#ORDER BY total_matkul ASC;"
   ]
  },
  {
   "cell_type": "markdown",
   "metadata": {},
   "source": [
    "### Hackerrank Practice"
   ]
  },
  {
   "cell_type": "markdown",
   "metadata": {},
   "source": [
    "Query a list of CITY names from STATION for cities that have an even ID number. Print the results in any order, but exclude duplicates from the answer."
   ]
  },
  {
   "cell_type": "code",
   "execution_count": null,
   "metadata": {},
   "outputs": [],
   "source": [
    "#filter city by distinct, so no dupe\n",
    "#select distinct city \n",
    "#from station \n",
    "#where mod(id, 2)=0 \n",
    "#mod (x, 2)= 0 is for even number, (x, 2)=1 for odd number\n"
   ]
  },
  {
   "cell_type": "markdown",
   "metadata": {},
   "source": [
    "Given the CITY and COUNTRY tables, query the sum of the populations of all cities where the CONTINENT is 'Asia'."
   ]
  },
  {
   "cell_type": "code",
   "execution_count": null,
   "metadata": {},
   "outputs": [],
   "source": [
    "#select sum(city.population)\n",
    "#from city\n",
    "#join country on city.countrycode=country.code\n",
    "#where country.continent=\"asia\""
   ]
  },
  {
   "cell_type": "markdown",
   "metadata": {},
   "source": [
    "Given the CITY and COUNTRY tables, query the names of all cities where the CONTINENT is 'Africa'."
   ]
  },
  {
   "cell_type": "code",
   "execution_count": null,
   "metadata": {},
   "outputs": [],
   "source": [
    "#select city.name\n",
    "#from city\n",
    "#join country on city.countrycode=country.code\n",
    "#where country.continent=\"africa\""
   ]
  },
  {
   "cell_type": "markdown",
   "metadata": {},
   "source": [
    "Given the CITY and COUNTRY tables, query the names of all the continents (COUNTRY.Continent) and their respective average city populations (CITY.Population) rounded down to the nearest integer."
   ]
  },
  {
   "cell_type": "code",
   "execution_count": null,
   "metadata": {},
   "outputs": [],
   "source": [
    "#select country.continent, floor(avg((city.population)))\n",
    "#from city\n",
    "#join country on city.countrycode=country.code\n",
    "#GROUP by country.continent"
   ]
  },
  {
   "cell_type": "markdown",
   "metadata": {},
   "source": [
    "## Google Cloud"
   ]
  },
  {
   "cell_type": "code",
   "execution_count": 1,
   "metadata": {},
   "outputs": [],
   "source": [
    "#select * \n",
    "#from `bigquery-public-data.chicago_crime.crime`\n",
    "#where location_description=\"STREET\"\n",
    "#limit 1000\n",
    "\n",
    "#-- melihat kejahatan unique di Chicago \n",
    "#select primary_type, count(*) as total_crime\n",
    "#FROM `bigquery-public-data.chicago_crime.crime`\n",
    "#group by primary_type\n",
    "#order by total_crime desc;"
   ]
  },
  {
   "cell_type": "markdown",
   "metadata": {},
   "source": [
    "Kunci jawaban NGC\n",
    "\n",
    "https://github.com/danupurnomo/hacktiv8-exercises/blob/main/Non%20Graded%20Challenge/%5BANSWERS%5D%20Non%20Graded%20Challenge%2009%20-%20SQL.ipynb"
   ]
  }
 ],
 "metadata": {
  "kernelspec": {
   "display_name": "Python 3.9.12 ('base')",
   "language": "python",
   "name": "python3"
  },
  "language_info": {
   "codemirror_mode": {
    "name": "ipython",
    "version": 3
   },
   "file_extension": ".py",
   "mimetype": "text/x-python",
   "name": "python",
   "nbconvert_exporter": "python",
   "pygments_lexer": "ipython3",
   "version": "3.9.12"
  },
  "orig_nbformat": 4,
  "vscode": {
   "interpreter": {
    "hash": "690fcc030dbde6f3f652c519b06a0d95da528e66105ed58c88e506e5818277cb"
   }
  }
 },
 "nbformat": 4,
 "nbformat_minor": 2
}
