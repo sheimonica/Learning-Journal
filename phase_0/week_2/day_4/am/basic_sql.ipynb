{
 "cells": [
  {
   "cell_type": "markdown",
   "metadata": {},
   "source": [
    "## SQL"
   ]
  },
  {
   "cell_type": "markdown",
   "metadata": {},
   "source": [
    "why sql? \n",
    "- excel have limitation to data storage\n",
    "- slow loading time "
   ]
  },
  {
   "cell_type": "markdown",
   "metadata": {},
   "source": [
    "- csv -> database\n",
    "- sheet -> table\n",
    "\n",
    "example:\n",
    "- sm_app -> DB\n",
    "- users -> table\n",
    "- id, name, age -> column\n",
    "- int, text -> datatype"
   ]
  },
  {
   "cell_type": "markdown",
   "metadata": {},
   "source": [
    "primary keys and foreign keys:\n",
    "- primary: no hp A di hp A\n",
    "- foreign: no hp B di hp A"
   ]
  },
  {
   "cell_type": "markdown",
   "metadata": {},
   "source": [
    "table connection\n",
    "- one to one = a table connected to one thing\n",
    "- one to many = a table connected to a lot of things\n",
    "- many to many = a lot of things connected to a lot of things"
   ]
  },
  {
   "cell_type": "markdown",
   "metadata": {},
   "source": [
    "kita bakal pakai mariaDB\n",
    "\n",
    "startup biasanya mySQL / postgreSQL"
   ]
  },
  {
   "cell_type": "markdown",
   "metadata": {},
   "source": [
    "- DDL: Data Definition Language (mengubah tabel)\n",
    "- DQL: Data Query Table (mencari data secara spesifik)\n",
    "- DML: Data Manipulation Language (mengubah data)\n",
    "- DCL: Data Control Language (control access)"
   ]
  },
  {
   "cell_type": "code",
   "execution_count": null,
   "metadata": {},
   "outputs": [],
   "source": [
    "#mariaDB SQL\n",
    "\n",
    "# buat tabel\n",
    "#CREATE TABLE teachers (\n",
    "#    id INT NOT NULL PRIMARY KEY AUTO_INCREMENT,\n",
    "#    first_name varchar(25) NOT NULL,\n",
    "#    last_name varchar(50),\n",
    "#    school varchar(50) NOT NULL,\n",
    "#    hire_date date,\n",
    "#    salary numeric\n",
    "#    );"
   ]
  },
  {
   "cell_type": "markdown",
   "metadata": {},
   "source": [
    "### Editing Tabel"
   ]
  },
  {
   "cell_type": "code",
   "execution_count": null,
   "metadata": {},
   "outputs": [],
   "source": [
    "#-- tambah column age\n",
    "#ALTER TABLE teachers ADD age INT;\n",
    "\n",
    "#-- hapus column age\n",
    "#ALTER TABLE teachers DROP COLUMN age;\n",
    "\n",
    "#highlight kode untuk run spesifik dan tidak run dari atas\n",
    "\n",
    "#-- tambah column age\n",
    "#ALTER TABLE teachers ADD age INT;\n",
    "\n",
    "#-- hapus column age\n",
    "#ALTER TABLE teachers DROP COLUMN age;\n",
    "\n",
    "#-- ubah tipe data di column\n",
    "#ALTER TABLE teachers MODIFY COLUMN salary INT;\n",
    "\n",
    "#-- ubah nama column\n",
    "#ALTER TABLE teachers RENAME TO guru;\n",
    "\n",
    "#-- ubah nama column 2\n",
    "#ALTER TABLE guru RENAME TO teachers;\n",
    "\n"
   ]
  },
  {
   "cell_type": "markdown",
   "metadata": {},
   "source": [
    "### Memasukan data ke tabel"
   ]
  },
  {
   "cell_type": "code",
   "execution_count": null,
   "metadata": {},
   "outputs": [],
   "source": [
    "#-- insert data\n",
    "\n",
    "# with parameter id\n",
    "#INSERT INTO teachers (id,first_name, last_name, school, hire_date, salary)\n",
    "#    VALUES (1,'Janet', 'Smith', 'MIT', '2011-10-30', 36200),\n",
    "#           (2,'Lee', 'Reynolds', 'MIT', '1993-05-22', 65000),\n",
    "#           (3,'Samuel', 'Cole', 'Cambridge University', '2005-08-01', 43500),\n",
    "#           (4,'Samantha', 'Bush', 'Cambridge University', '2011-10-30', 36200),\n",
    "#           (5,'Betty', 'Diaz', 'Cambridge University', '2005-08-30', 43500),\n",
    "#           (6,'Kathleen', 'Roush', 'MIT', '2010-10-22', 38500),\n",
    "#           (7,'James', 'Diaz', 'Harvard University', '2003-07-18', 61000),\n",
    "#           (8,'Zack', 'Smith', 'Harvard University', '2000-12-29', 55500),\n",
    "#           (9,'Luis', 'Gonzales', 'Standford University', '2002-12-01', 50000),\n",
    "#           (10,'Frank', 'Abbers', 'Standford University', '1999-01-30', 66000);\n",
    "\n",
    "# without parameter id\n",
    "#INSERT INTO teachers (first_name, last_name, school, hire_date, salary)\n",
    "#    VALUES ('Samuel', 'Abbers', 'Standford University', '2006-01-30', 32000),\n",
    "#           ('Jessica', 'Abbers', 'Standford University', '2005-01-30', 33000),\n",
    "#           ('Tom', 'Massi', 'Harvard University', '1999-09-09', 39500),\n",
    "#           ('Esteban', 'Brown', 'MIT', '2007-01-30', 36000),\n",
    "#           ('Carlos', 'Alonso', 'Standford University', '2001-01-30', 44000);"
   ]
  },
  {
   "cell_type": "markdown",
   "metadata": {},
   "source": [
    "### Mengecheck & mengedit tabel"
   ]
  },
  {
   "cell_type": "code",
   "execution_count": null,
   "metadata": {},
   "outputs": [],
   "source": [
    "#-- lihat isi tabel teachers\n",
    "#SELECT * FROM teachers;\n",
    "\n",
    "#-- menghapus isi dari table teachers\n",
    "#TRUNCATE TABLE teachers;\n",
    "#SELECT * FROM teachers;\n",
    "\n",
    "#-- menghapus tabel teachers\n",
    "#DROP TABLE teachers;\n",
    "\n",
    "#-- update data tabel\n",
    "#UPDATE teachers\n",
    "#SET salary=50000\n",
    "#WHERE id=3\n"
   ]
  },
  {
   "cell_type": "markdown",
   "metadata": {},
   "source": [
    "kalau primary keys sudah dipakai, tidak bisa dipakai lagi. Datanya jadi kosong dan tidak bisa ditambahkan lagi. \n",
    "EX: sudah delete id=6, maka id=6 akan tetap ada walau kosong. Di tabel skrg tidak ada data id=6, dari id=5 menjadi id=7"
   ]
  },
  {
   "cell_type": "markdown",
   "metadata": {},
   "source": [
    "### Querying di SQL"
   ]
  },
  {
   "cell_type": "code",
   "execution_count": null,
   "metadata": {},
   "outputs": [],
   "source": [
    "#-- melihat isi kolom spesifik kepada tabel\n",
    "#SELECT first_name, last_name, school\n",
    "#FROM teachers;\n",
    "\n",
    "#-- melihat dosen yang mengajar di MIT\n",
    "#SELECT *\n",
    "#FROM teachers\n",
    "#WHERE school=\"MIT\";\n",
    "\n",
    "#-- melihat dosen yang gajinya diatas 60000\n",
    "#SELECT *\n",
    "#FROM teachers\n",
    "#WHERE salary>60000;\n",
    "\n",
    "#-- dosen MIT gaji diatas 60000\n",
    "#SELECT *\n",
    "#FROM teachers\n",
    "#WHERE school=\"MIT\" and salary>60000;\n",
    "\n",
    "#-- dosen dengan nama belakang\n",
    "#-- cara #1\n",
    "#SELECT *\n",
    "#FROM teachers\n",
    "#WHERE last_name=\"abbers\" or last_name=\"smith\";\n",
    "\n",
    "#-- cara #2\n",
    "#SELECT *\n",
    "#FROM teachers\n",
    "#WHERE last_name in (\"abbers\", \"smith\");\n",
    "\n",
    "#-- melihat jumlah data di tabel teachers\n",
    "#SELECT count(*) AS \"jumlah data\"\n",
    "#FROM teachers;\n",
    "\n",
    "#-- melihat unique value di column school\n",
    "#SELECT DISTINCT school\n",
    "#From teachers;\n",
    "\n",
    "#-- melihat jumlah sekolah dengan unique value di colum schooldemo\n",
    "#SELECT COUNT(DISTINCT(school)) as \"jumlah school\"\n",
    "#FROM teachers;\n",
    "\n",
    "#-- mengurutkan dosen berdasarkan last_name secara Z-A (descending)\n",
    "#SELECT *\n",
    "#FROM teachers\n",
    "#order by last_name DESC;\n",
    "\n",
    "#-- mengurutkan dosen berdasarkan last_name secara A-Z (ascending)\n",
    "#SELECT *\n",
    "#FROM teachers\n",
    "#order by last_name ASC;\n",
    "\n",
    "#-- mengurutkan dosen berdasarkan last_name secara Z-A (descending) dan school A-Z (ascending)\n",
    "#SELECT *\n",
    "#FROM teachers\n",
    "#order by last_name DESC, school ASC;"
   ]
  }
 ],
 "metadata": {
  "kernelspec": {
   "display_name": "Python 3.9.12 ('base')",
   "language": "python",
   "name": "python3"
  },
  "language_info": {
   "codemirror_mode": {
    "name": "ipython",
    "version": 3
   },
   "file_extension": ".py",
   "mimetype": "text/x-python",
   "name": "python",
   "nbconvert_exporter": "python",
   "pygments_lexer": "ipython3",
   "version": "3.9.12"
  },
  "orig_nbformat": 4,
  "vscode": {
   "interpreter": {
    "hash": "690fcc030dbde6f3f652c519b06a0d95da528e66105ed58c88e506e5818277cb"
   }
  }
 },
 "nbformat": 4,
 "nbformat_minor": 2
}
