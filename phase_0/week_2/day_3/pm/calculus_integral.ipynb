{
 "cells": [
  {
   "cell_type": "markdown",
   "metadata": {},
   "source": [
    "### Integral \n",
    "\n",
    "an alternative way to measure area"
   ]
  },
  {
   "cell_type": "markdown",
   "metadata": {},
   "source": [
    "- f(x) = x   |  integral = (1/2)x^2\n",
    "\n",
    "- f(x) = 2x^2 + 1   |  integral = (2/3)x^3 + x + c\n",
    "\n",
    "- f(x) = 3x^2 + 2x - 4   |  integral = x^3 + x^2 - 4x + c|\n"
   ]
  },
  {
   "cell_type": "markdown",
   "metadata": {},
   "source": [
    "### Integral on Code"
   ]
  },
  {
   "cell_type": "code",
   "execution_count": 3,
   "metadata": {
    "colab": {
     "base_uri": "https://localhost:8080/",
     "height": 39
    },
    "id": "nWLY40MVFrQu",
    "outputId": "25b28833-9590-4d6d-d47a-a939a835ce2f"
   },
   "outputs": [
    {
     "data": {
      "text/latex": [
       "$\\displaystyle 2 x^{2} + 4 x - 1$"
      ],
      "text/plain": [
       "2*x**2 + 4*x - 1"
      ]
     },
     "execution_count": 3,
     "metadata": {},
     "output_type": "execute_result"
    }
   ],
   "source": [
    "# sympy method \n",
    "# does not consider c value\n",
    "\n",
    "import sympy as sy\n",
    "x = sy.Symbol(\"x\",real=True)\n",
    "f = 2*x**2+4*x-1\n",
    "f"
   ]
  },
  {
   "cell_type": "code",
   "execution_count": 4,
   "metadata": {},
   "outputs": [
    {
     "data": {
      "text/latex": [
       "$\\displaystyle \\frac{2 x^{3}}{3} + 2 x^{2} - x$"
      ],
      "text/plain": [
       "2*x**3/3 + 2*x**2 - x"
      ]
     },
     "execution_count": 4,
     "metadata": {},
     "output_type": "execute_result"
    }
   ],
   "source": [
    "sy.integrate(f)"
   ]
  },
  {
   "cell_type": "code",
   "execution_count": 13,
   "metadata": {},
   "outputs": [
    {
     "data": {
      "text/plain": [
       "116.99999999999999"
      ]
     },
     "execution_count": 13,
     "metadata": {},
     "output_type": "execute_result"
    }
   ],
   "source": [
    "def integral_f(x):\n",
    "  return (2/3)*x**3 + 2*x**2 - x\n",
    "\n",
    "integral_f(5) - integral_f(2)"
   ]
  },
  {
   "cell_type": "code",
   "execution_count": 14,
   "metadata": {},
   "outputs": [],
   "source": [
    "# scipy method \n",
    "# consider c value\n",
    "# need to consider the limit\n",
    "# numeric - function\n",
    "\n",
    "from scipy import integrate\n",
    "\n",
    "def f(x):\n",
    "    return 2*x**2+4*x-1"
   ]
  },
  {
   "cell_type": "code",
   "execution_count": 18,
   "metadata": {},
   "outputs": [
    {
     "name": "stdout",
     "output_type": "stream",
     "text": [
      "117.0\n"
     ]
    }
   ],
   "source": [
    "A = integrate.quad(f,2,5)\n",
    "print(A[0])"
   ]
  },
  {
   "cell_type": "code",
   "execution_count": 17,
   "metadata": {},
   "outputs": [
    {
     "name": "stdout",
     "output_type": "stream",
     "text": [
      "117.00374843815077\n"
     ]
    }
   ],
   "source": [
    "# scipy method 2\n",
    "# numeric - data / array\n",
    "\n",
    "from scipy import integrate\n",
    "import numpy as np\n",
    "\n",
    "def f(x):\n",
    "    return 2*x**2+4*x-1\n",
    "\n",
    "x = np.linspace(2,5)\n",
    "y = f(x)\n",
    "A = integrate.trapezoid(y,x)\n",
    "print(A)"
   ]
  },
  {
   "cell_type": "code",
   "execution_count": 19,
   "metadata": {},
   "outputs": [
    {
     "data": {
      "text/plain": [
       "array([2.        , 2.06122449, 2.12244898, 2.18367347, 2.24489796,\n",
       "       2.30612245, 2.36734694, 2.42857143, 2.48979592, 2.55102041,\n",
       "       2.6122449 , 2.67346939, 2.73469388, 2.79591837, 2.85714286,\n",
       "       2.91836735, 2.97959184, 3.04081633, 3.10204082, 3.16326531,\n",
       "       3.2244898 , 3.28571429, 3.34693878, 3.40816327, 3.46938776,\n",
       "       3.53061224, 3.59183673, 3.65306122, 3.71428571, 3.7755102 ,\n",
       "       3.83673469, 3.89795918, 3.95918367, 4.02040816, 4.08163265,\n",
       "       4.14285714, 4.20408163, 4.26530612, 4.32653061, 4.3877551 ,\n",
       "       4.44897959, 4.51020408, 4.57142857, 4.63265306, 4.69387755,\n",
       "       4.75510204, 4.81632653, 4.87755102, 4.93877551, 5.        ])"
      ]
     },
     "execution_count": 19,
     "metadata": {},
     "output_type": "execute_result"
    }
   ],
   "source": [
    "x"
   ]
  },
  {
   "cell_type": "code",
   "execution_count": 20,
   "metadata": {},
   "outputs": [
    {
     "data": {
      "text/plain": [
       "array([15.        , 15.74219075, 16.49937526, 17.27155352, 18.05872553,\n",
       "       18.8608913 , 19.67805081, 20.51020408, 21.3573511 , 22.21949188,\n",
       "       23.09662641, 23.98875469, 24.89587672, 25.8179925 , 26.75510204,\n",
       "       27.70720533, 28.67430237, 29.65639317, 30.65347772, 31.66555602,\n",
       "       32.69262807, 33.73469388, 34.79175344, 35.86380675, 36.95085381,\n",
       "       38.05289463, 39.1699292 , 40.30195752, 41.44897959, 42.61099542,\n",
       "       43.788005  , 44.98000833, 46.18700541, 47.40899625, 48.64598084,\n",
       "       49.89795918, 51.16493128, 52.44689713, 53.74385673, 55.05581008,\n",
       "       56.38275718, 57.72469804, 59.08163265, 60.45356102, 61.84048313,\n",
       "       63.242399  , 64.65930862, 66.091212  , 67.53810912, 69.        ])"
      ]
     },
     "execution_count": 20,
     "metadata": {},
     "output_type": "execute_result"
    }
   ],
   "source": [
    "y"
   ]
  },
  {
   "cell_type": "code",
   "execution_count": 22,
   "metadata": {},
   "outputs": [
    {
     "data": {
      "text/html": [
       "<div>\n",
       "<style scoped>\n",
       "    .dataframe tbody tr th:only-of-type {\n",
       "        vertical-align: middle;\n",
       "    }\n",
       "\n",
       "    .dataframe tbody tr th {\n",
       "        vertical-align: top;\n",
       "    }\n",
       "\n",
       "    .dataframe thead th {\n",
       "        text-align: right;\n",
       "    }\n",
       "</style>\n",
       "<table border=\"1\" class=\"dataframe\">\n",
       "  <thead>\n",
       "    <tr style=\"text-align: right;\">\n",
       "      <th></th>\n",
       "      <th>Invoice ID</th>\n",
       "      <th>Branch</th>\n",
       "      <th>City</th>\n",
       "      <th>Customer type</th>\n",
       "      <th>Gender</th>\n",
       "      <th>Product line</th>\n",
       "      <th>Unit price</th>\n",
       "      <th>Quantity</th>\n",
       "      <th>Tax 5%</th>\n",
       "      <th>Total</th>\n",
       "      <th>Date</th>\n",
       "      <th>Time</th>\n",
       "      <th>Payment</th>\n",
       "      <th>cogs</th>\n",
       "      <th>gross margin percentage</th>\n",
       "      <th>gross income</th>\n",
       "      <th>Rating</th>\n",
       "    </tr>\n",
       "  </thead>\n",
       "  <tbody>\n",
       "    <tr>\n",
       "      <th>0</th>\n",
       "      <td>765-26-6951</td>\n",
       "      <td>A</td>\n",
       "      <td>Yangon</td>\n",
       "      <td>Normal</td>\n",
       "      <td>Male</td>\n",
       "      <td>Sports and travel</td>\n",
       "      <td>72.61</td>\n",
       "      <td>6</td>\n",
       "      <td>21.783</td>\n",
       "      <td>457.443</td>\n",
       "      <td>1/1/2019</td>\n",
       "      <td>10:39</td>\n",
       "      <td>Credit card</td>\n",
       "      <td>435.66</td>\n",
       "      <td>4.761905</td>\n",
       "      <td>21.783</td>\n",
       "      <td>6.9</td>\n",
       "    </tr>\n",
       "    <tr>\n",
       "      <th>1</th>\n",
       "      <td>651-88-7328</td>\n",
       "      <td>A</td>\n",
       "      <td>Yangon</td>\n",
       "      <td>Normal</td>\n",
       "      <td>Female</td>\n",
       "      <td>Fashion accessories</td>\n",
       "      <td>65.74</td>\n",
       "      <td>9</td>\n",
       "      <td>29.583</td>\n",
       "      <td>621.243</td>\n",
       "      <td>1/1/2019</td>\n",
       "      <td>13:55</td>\n",
       "      <td>Cash</td>\n",
       "      <td>591.66</td>\n",
       "      <td>4.761905</td>\n",
       "      <td>29.583</td>\n",
       "      <td>7.7</td>\n",
       "    </tr>\n",
       "    <tr>\n",
       "      <th>2</th>\n",
       "      <td>416-17-9926</td>\n",
       "      <td>A</td>\n",
       "      <td>Yangon</td>\n",
       "      <td>Member</td>\n",
       "      <td>Female</td>\n",
       "      <td>Electronic accessories</td>\n",
       "      <td>74.22</td>\n",
       "      <td>10</td>\n",
       "      <td>37.110</td>\n",
       "      <td>779.310</td>\n",
       "      <td>1/1/2019</td>\n",
       "      <td>14:42</td>\n",
       "      <td>Credit card</td>\n",
       "      <td>742.20</td>\n",
       "      <td>4.761905</td>\n",
       "      <td>37.110</td>\n",
       "      <td>4.3</td>\n",
       "    </tr>\n",
       "    <tr>\n",
       "      <th>3</th>\n",
       "      <td>530-90-9855</td>\n",
       "      <td>A</td>\n",
       "      <td>Yangon</td>\n",
       "      <td>Member</td>\n",
       "      <td>Male</td>\n",
       "      <td>Home and lifestyle</td>\n",
       "      <td>47.59</td>\n",
       "      <td>8</td>\n",
       "      <td>19.036</td>\n",
       "      <td>399.756</td>\n",
       "      <td>1/1/2019</td>\n",
       "      <td>14:47</td>\n",
       "      <td>Cash</td>\n",
       "      <td>380.72</td>\n",
       "      <td>4.761905</td>\n",
       "      <td>19.036</td>\n",
       "      <td>5.7</td>\n",
       "    </tr>\n",
       "    <tr>\n",
       "      <th>4</th>\n",
       "      <td>182-52-7000</td>\n",
       "      <td>A</td>\n",
       "      <td>Yangon</td>\n",
       "      <td>Member</td>\n",
       "      <td>Female</td>\n",
       "      <td>Sports and travel</td>\n",
       "      <td>27.04</td>\n",
       "      <td>4</td>\n",
       "      <td>5.408</td>\n",
       "      <td>113.568</td>\n",
       "      <td>1/1/2019</td>\n",
       "      <td>20:26</td>\n",
       "      <td>Ewallet</td>\n",
       "      <td>108.16</td>\n",
       "      <td>4.761905</td>\n",
       "      <td>5.408</td>\n",
       "      <td>6.9</td>\n",
       "    </tr>\n",
       "  </tbody>\n",
       "</table>\n",
       "</div>"
      ],
      "text/plain": [
       "    Invoice ID Branch    City Customer type  Gender            Product line  \\\n",
       "0  765-26-6951      A  Yangon        Normal    Male       Sports and travel   \n",
       "1  651-88-7328      A  Yangon        Normal  Female     Fashion accessories   \n",
       "2  416-17-9926      A  Yangon        Member  Female  Electronic accessories   \n",
       "3  530-90-9855      A  Yangon        Member    Male      Home and lifestyle   \n",
       "4  182-52-7000      A  Yangon        Member  Female       Sports and travel   \n",
       "\n",
       "   Unit price  Quantity  Tax 5%    Total      Date   Time      Payment  \\\n",
       "0       72.61         6  21.783  457.443  1/1/2019  10:39  Credit card   \n",
       "1       65.74         9  29.583  621.243  1/1/2019  13:55         Cash   \n",
       "2       74.22        10  37.110  779.310  1/1/2019  14:42  Credit card   \n",
       "3       47.59         8  19.036  399.756  1/1/2019  14:47         Cash   \n",
       "4       27.04         4   5.408  113.568  1/1/2019  20:26      Ewallet   \n",
       "\n",
       "     cogs  gross margin percentage  gross income  Rating  \n",
       "0  435.66                 4.761905        21.783     6.9  \n",
       "1  591.66                 4.761905        29.583     7.7  \n",
       "2  742.20                 4.761905        37.110     4.3  \n",
       "3  380.72                 4.761905        19.036     5.7  \n",
       "4  108.16                 4.761905         5.408     6.9  "
      ]
     },
     "execution_count": 22,
     "metadata": {},
     "output_type": "execute_result"
    }
   ],
   "source": [
    "#Case Menghitung Total Pendapatan tahun 2019 di Supermarket Cabang Yangon\n",
    "import pandas as pd\n",
    "\n",
    "data = pd.read_csv('https://raw.githubusercontent.com/fahmimnalfrzki/ds-masterclass-h8-vol2/main/data/supermarket_sales%20-%20Sheet1.csv')\n",
    "data = data[data['City']=='Yangon'].sort_values(['Date','Time']).reset_index(drop=True)\n",
    "data.head()"
   ]
  },
  {
   "cell_type": "code",
   "execution_count": 23,
   "metadata": {},
   "outputs": [
    {
     "data": {
      "text/plain": [
       "<AxesSubplot:>"
      ]
     },
     "execution_count": 23,
     "metadata": {},
     "output_type": "execute_result"
    },
    {
     "data": {
      "image/png": "[encoded data removed]",
      "text/plain": [
       "<Figure size 432x288 with 1 Axes>"
      ]
     },
     "metadata": {
      "needs_background": "light"
     },
     "output_type": "display_data"
    }
   ],
   "source": [
    "data['gross income'].plot(kind='line')"
   ]
  },
  {
   "cell_type": "code",
   "execution_count": 24,
   "metadata": {},
   "outputs": [
    {
     "name": "stdout",
     "output_type": "stream",
     "text": [
      "Total Gross Income in 2019: 5033.7964999999995\n"
     ]
    }
   ],
   "source": [
    "x = data.index\n",
    "y = data['gross income']\n",
    "\n",
    "total_gross_income_2019 = integrate.trapz(y,x)\n",
    "print('Total Gross Income in 2019:',total_gross_income_2019)"
   ]
  },
  {
   "cell_type": "code",
   "execution_count": 25,
   "metadata": {},
   "outputs": [
    {
     "data": {
      "text/plain": [
       "5057.1605"
      ]
     },
     "execution_count": 25,
     "metadata": {},
     "output_type": "execute_result"
    }
   ],
   "source": [
    "data['gross income'].sum()"
   ]
  },
  {
   "cell_type": "markdown",
   "metadata": {},
   "source": [
    "## Luas area lingkaran"
   ]
  },
  {
   "cell_type": "code",
   "execution_count": 26,
   "metadata": {},
   "outputs": [],
   "source": [
    "from scipy.integrate import trapz\n",
    "from scipy.integrate import quad\n",
    "import numpy as np\n",
    "\n",
    "R=30\n",
    "x=np.linspace(-R,R,100000)\n",
    "\n",
    "upper = np.sqrt(R**2 - x**2)\n",
    "lower = -upper"
   ]
  },
  {
   "cell_type": "code",
   "execution_count": 27,
   "metadata": {},
   "outputs": [
    {
     "data": {
      "text/plain": [
       "array([-30.        , -29.99939999, -29.99879999, ...,  29.99879999,\n",
       "        29.99939999,  30.        ])"
      ]
     },
     "execution_count": 27,
     "metadata": {},
     "output_type": "execute_result"
    }
   ],
   "source": [
    "x"
   ]
  },
  {
   "cell_type": "code",
   "execution_count": 28,
   "metadata": {},
   "outputs": [
    {
     "data": {
      "text/plain": [
       "[<matplotlib.lines.Line2D at 0x246f16dadf0>]"
      ]
     },
     "execution_count": 28,
     "metadata": {},
     "output_type": "execute_result"
    },
    {
     "data": {
      "image/png": "[encoded data removed]",
      "text/plain": [
       "<Figure size 432x432 with 1 Axes>"
      ]
     },
     "metadata": {
      "needs_background": "light"
     },
     "output_type": "display_data"
    }
   ],
   "source": [
    "import matplotlib.pyplot as plt\n",
    "fig,ax = plt.subplots(figsize=(6,6))\n",
    "ax.plot(x,upper)\n",
    "ax.plot(x,lower)"
   ]
  },
  {
   "cell_type": "code",
   "execution_count": 29,
   "metadata": {},
   "outputs": [
    {
     "name": "stdout",
     "output_type": "stream",
     "text": [
      "2827.4332935647208\n"
     ]
    }
   ],
   "source": [
    "#Cara 1\n",
    "area = trapz(upper,x) - trapz(lower,x)\n",
    "\n",
    "print(area)"
   ]
  },
  {
   "cell_type": "code",
   "execution_count": 30,
   "metadata": {},
   "outputs": [
    {
     "name": "stdout",
     "output_type": "stream",
     "text": [
      "2827.4333882308197\n"
     ]
    }
   ],
   "source": [
    "#Cara 2\n",
    "def upper(x):\n",
    "  return np.sqrt(R**2 - x**2)\n",
    "\n",
    "def lower(x):\n",
    "  return -np.sqrt(R**2 - x**2)\n",
    "\n",
    "area = quad(upper,-R,R)[0] - quad(lower,-R,R)[0]\n",
    "print(area)"
   ]
  },
  {
   "cell_type": "code",
   "execution_count": 31,
   "metadata": {},
   "outputs": [
    {
     "name": "stdout",
     "output_type": "stream",
     "text": [
      "2827.4333882308138\n"
     ]
    }
   ],
   "source": [
    "#Menggunakan rumus luas lingkaran\n",
    "print(np.pi*R**2)"
   ]
  },
  {
   "cell_type": "code",
   "execution_count": 32,
   "metadata": {},
   "outputs": [
    {
     "data": {
      "text/html": [
       "<div>\n",
       "<style scoped>\n",
       "    .dataframe tbody tr th:only-of-type {\n",
       "        vertical-align: middle;\n",
       "    }\n",
       "\n",
       "    .dataframe tbody tr th {\n",
       "        vertical-align: top;\n",
       "    }\n",
       "\n",
       "    .dataframe thead th {\n",
       "        text-align: right;\n",
       "    }\n",
       "</style>\n",
       "<table border=\"1\" class=\"dataframe\">\n",
       "  <thead>\n",
       "    <tr style=\"text-align: right;\">\n",
       "      <th></th>\n",
       "      <th>longitude</th>\n",
       "      <th>latitude</th>\n",
       "    </tr>\n",
       "  </thead>\n",
       "  <tbody>\n",
       "    <tr>\n",
       "      <th>0</th>\n",
       "      <td>9.56672</td>\n",
       "      <td>47.54045</td>\n",
       "    </tr>\n",
       "    <tr>\n",
       "      <th>1</th>\n",
       "      <td>9.55980</td>\n",
       "      <td>47.50209</td>\n",
       "    </tr>\n",
       "    <tr>\n",
       "      <th>2</th>\n",
       "      <td>9.59660</td>\n",
       "      <td>47.46944</td>\n",
       "    </tr>\n",
       "    <tr>\n",
       "      <th>3</th>\n",
       "      <td>9.64965</td>\n",
       "      <td>47.45861</td>\n",
       "    </tr>\n",
       "    <tr>\n",
       "      <th>4</th>\n",
       "      <td>9.67035</td>\n",
       "      <td>47.39069</td>\n",
       "    </tr>\n",
       "    <tr>\n",
       "      <th>...</th>\n",
       "      <td>...</td>\n",
       "      <td>...</td>\n",
       "    </tr>\n",
       "    <tr>\n",
       "      <th>273</th>\n",
       "      <td>9.03333</td>\n",
       "      <td>47.68833</td>\n",
       "    </tr>\n",
       "    <tr>\n",
       "      <th>274</th>\n",
       "      <td>9.08264</td>\n",
       "      <td>47.68541</td>\n",
       "    </tr>\n",
       "    <tr>\n",
       "      <th>275</th>\n",
       "      <td>9.26110</td>\n",
       "      <td>47.66284</td>\n",
       "    </tr>\n",
       "    <tr>\n",
       "      <th>276</th>\n",
       "      <td>9.47832</td>\n",
       "      <td>47.57585</td>\n",
       "    </tr>\n",
       "    <tr>\n",
       "      <th>277</th>\n",
       "      <td>9.56672</td>\n",
       "      <td>47.54045</td>\n",
       "    </tr>\n",
       "  </tbody>\n",
       "</table>\n",
       "<p>278 rows × 2 columns</p>\n",
       "</div>"
      ],
      "text/plain": [
       "     longitude  latitude\n",
       "0      9.56672  47.54045\n",
       "1      9.55980  47.50209\n",
       "2      9.59660  47.46944\n",
       "3      9.64965  47.45861\n",
       "4      9.67035  47.39069\n",
       "..         ...       ...\n",
       "273    9.03333  47.68833\n",
       "274    9.08264  47.68541\n",
       "275    9.26110  47.66284\n",
       "276    9.47832  47.57585\n",
       "277    9.56672  47.54045\n",
       "\n",
       "[278 rows x 2 columns]"
      ]
     },
     "execution_count": 32,
     "metadata": {},
     "output_type": "execute_result"
    }
   ],
   "source": [
    "#Menghitung Luas area negara swiss\n",
    "\n",
    "df = pd.read_csv('https://raw.githubusercontent.com/fahmimnalfrzki/Dataset/main/Swiss_boundaries.txt?token=AEZDEHXBTS7OMF32RTYPKZDA2FELA')\n",
    "df"
   ]
  },
  {
   "cell_type": "code",
   "execution_count": 33,
   "metadata": {},
   "outputs": [
    {
     "name": "stdout",
     "output_type": "stream",
     "text": [
      "<class 'pandas.core.frame.DataFrame'>\n",
      "RangeIndex: 278 entries, 0 to 277\n",
      "Data columns (total 2 columns):\n",
      " #   Column     Non-Null Count  Dtype  \n",
      "---  ------     --------------  -----  \n",
      " 0   longitude  278 non-null    float64\n",
      " 1   latitude   278 non-null    float64\n",
      "dtypes: float64(2)\n",
      "memory usage: 4.5 KB\n"
     ]
    }
   ],
   "source": [
    "df.info()"
   ]
  },
  {
   "cell_type": "code",
   "execution_count": 34,
   "metadata": {},
   "outputs": [
    {
     "data": {
      "text/plain": [
       "[<matplotlib.lines.Line2D at 0x246ed5f45e0>]"
      ]
     },
     "execution_count": 34,
     "metadata": {},
     "output_type": "execute_result"
    },
    {
     "data": {
      "image/png": "[encoded data removed]",
      "text/plain": [
       "<Figure size 432x288 with 1 Axes>"
      ]
     },
     "metadata": {
      "needs_background": "light"
     },
     "output_type": "display_data"
    }
   ],
   "source": [
    "# Bentuk area negara swiss\n",
    "plt.plot(df['longitude'],df['latitude'])"
   ]
  },
  {
   "cell_type": "code",
   "execution_count": 35,
   "metadata": {},
   "outputs": [
    {
     "data": {
      "text/plain": [
       "46.61666000000005"
      ]
     },
     "execution_count": 35,
     "metadata": {},
     "output_type": "execute_result"
    }
   ],
   "source": [
    "# Hitung median untuk mencari nilai tengah untuk membedakan daerah southern dan northern\n",
    "\n",
    "median = df['latitude'].median()\n",
    "median"
   ]
  },
  {
   "cell_type": "markdown",
   "metadata": {},
   "source": [
    "Untuk mencari luas daerah dari suatu wilayah, cari integral dari area atas dikurangi area bawah. Dalam hal ini, cari integral dari daerah Nothern swiss yang latitude nya di atas median dari latitude lalu dikurangi integral dari daerah southern swiss yang latitude nya dibawah median dari latitude nya."
   ]
  },
  {
   "cell_type": "code",
   "execution_count": 36,
   "metadata": {},
   "outputs": [
    {
     "data": {
      "text/plain": [
       "4.189615000000004"
      ]
     },
     "execution_count": 36,
     "metadata": {},
     "output_type": "execute_result"
    }
   ],
   "source": [
    "trapz(df['latitude']>median, df['longitude']) - trapz(df['latitude']<median, df['longitude'])"
   ]
  }
 ],
 "metadata": {
  "kernelspec": {
   "display_name": "Python 3.9.12 ('base')",
   "language": "python",
   "name": "python3"
  },
  "language_info": {
   "codemirror_mode": {
    "name": "ipython",
    "version": 3
   },
   "file_extension": ".py",
   "mimetype": "text/x-python",
   "name": "python",
   "nbconvert_exporter": "python",
   "pygments_lexer": "ipython3",
   "version": "3.9.12"
  },
  "orig_nbformat": 4,
  "vscode": {
   "interpreter": {
    "hash": "690fcc030dbde6f3f652c519b06a0d95da528e66105ed58c88e506e5818277cb"
   }
  }
 },
 "nbformat": 4,
 "nbformat_minor": 2
}
