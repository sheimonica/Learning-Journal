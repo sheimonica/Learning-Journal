{
 "cells": [
  {
   "cell_type": "markdown",
   "metadata": {},
   "source": [
    "A video of that lasts 10.5 minutes, but only 5.2% viewers watch for more than a minute. It gets3.25 views per day on average and it was flagged 7 times as spam.\n",
    "\n",
    "(   10.5\n",
    "    5.2\n",
    "    3.25\n",
    "    7       )"
   ]
  },
  {
   "cell_type": "code",
   "execution_count": 2,
   "metadata": {},
   "outputs": [],
   "source": [
    "import numpy as np\n",
    "import matplotlib.pyplot as plt"
   ]
  },
  {
   "cell_type": "code",
   "execution_count": 12,
   "metadata": {},
   "outputs": [
    {
     "data": {
      "text/plain": [
       "array([2, 7, 5])"
      ]
     },
     "execution_count": 12,
     "metadata": {},
     "output_type": "execute_result"
    }
   ],
   "source": [
    "a = np.array([1, 5, 2])\n",
    "b = np.array([1, 2, 3])\n",
    "a + b"
   ]
  },
  {
   "cell_type": "code",
   "execution_count": 13,
   "metadata": {},
   "outputs": [
    {
     "data": {
      "text/plain": [
       "[1, 5, 2, 1, 2, 3]"
      ]
     },
     "execution_count": 13,
     "metadata": {},
     "output_type": "execute_result"
    }
   ],
   "source": [
    "c = [1, 5, 2]\n",
    "d = [1, 2, 3]\n",
    "\n",
    "c + d"
   ]
  },
  {
   "cell_type": "code",
   "execution_count": 14,
   "metadata": {},
   "outputs": [
    {
     "name": "stdout",
     "output_type": "stream",
     "text": [
      "[5 2]\n",
      "[5, 2]\n"
     ]
    }
   ],
   "source": [
    "print(a[1:])\n",
    "print(c[1:])"
   ]
  },
  {
   "cell_type": "code",
   "execution_count": 15,
   "metadata": {},
   "outputs": [
    {
     "data": {
      "text/plain": [
       "5.0"
      ]
     },
     "execution_count": 15,
     "metadata": {},
     "output_type": "execute_result"
    }
   ],
   "source": [
    "v = np.array([4, 3])\n",
    "np.linalg.norm(v)"
   ]
  },
  {
   "cell_type": "code",
   "execution_count": 22,
   "metadata": {},
   "outputs": [
    {
     "data": {
      "text/plain": [
       "<matplotlib.patches.FancyArrow at 0x28f596d6220>"
      ]
     },
     "execution_count": 22,
     "metadata": {},
     "output_type": "execute_result"
    },
    {
     "data": {
      "image/png": "[encoded data removed]",
      "text/plain": [
       "<Figure size 432x288 with 1 Axes>"
      ]
     },
     "metadata": {
      "needs_background": "light"
     },
     "output_type": "display_data"
    }
   ],
   "source": [
    "v = np.array([4, 3])\n",
    "plot_vector2d(v, color='r')"
   ]
  },
  {
   "cell_type": "code",
   "execution_count": 19,
   "metadata": {},
   "outputs": [
    {
     "data": {
      "image/png": "[encoded data removed]",
      "text/plain": [
       "<Figure size 432x288 with 1 Axes>"
      ]
     },
     "metadata": {
      "needs_background": "light"
     },
     "output_type": "display_data"
    }
   ],
   "source": [
    "plt.axis([0,5,0,5]) # rentang axis sumbu x dan y\n",
    "plt.grid()\n",
    "plt.show()"
   ]
  },
  {
   "cell_type": "code",
   "execution_count": 21,
   "metadata": {},
   "outputs": [],
   "source": [
    "def plot_vector2d(vector2d, origin=[0, 0], **options):\n",
    "    return plt.arrow(origin[0], origin[1], vector2d[0], vector2d[1],\n",
    "              head_width=0.2, head_length=0.3, length_includes_head=True,\n",
    "              **options)"
   ]
  },
  {
   "cell_type": "code",
   "execution_count": 25,
   "metadata": {},
   "outputs": [
    {
     "data": {
      "text/plain": [
       "5.0"
      ]
     },
     "execution_count": 25,
     "metadata": {},
     "output_type": "execute_result"
    }
   ],
   "source": [
    "np.linalg.norm(v) #5.0 euclidean way root of (4^2 + 3^2) = root of 25 = 5\n",
    "np.linalg.norm(v, 1) #7.0 manhattan way |4| + |3| = 7\n",
    "np.linalg.norm(v, 2) #5.0 euclidean way root of (4^2 + 3^2) = root of 25 = 5"
   ]
  },
  {
   "cell_type": "code",
   "execution_count": 31,
   "metadata": {},
   "outputs": [
    {
     "data": {
      "text/plain": [
       "1.0"
      ]
     },
     "execution_count": 31,
     "metadata": {},
     "output_type": "execute_result"
    }
   ],
   "source": [
    "#vector unit\n",
    "u = np.array([4/5, 3/5])\n",
    "np.linalg.norm (u)"
   ]
  },
  {
   "cell_type": "code",
   "execution_count": 35,
   "metadata": {},
   "outputs": [
    {
     "data": {
      "text/plain": [
       "1.0"
      ]
     },
     "execution_count": 35,
     "metadata": {},
     "output_type": "execute_result"
    }
   ],
   "source": [
    "c = np.array([1, 2, 3])\n",
    "\n",
    "np.linalg.norm(c/np.linalg.norm(c))"
   ]
  },
  {
   "cell_type": "code",
   "execution_count": 43,
   "metadata": {},
   "outputs": [
    {
     "name": "stdout",
     "output_type": "stream",
     "text": [
      "[1 5 2] [1 2 3]\n"
     ]
    },
    {
     "ename": "ValueError",
     "evalue": "operands could not be broadcast together with shapes (3,) (2,) ",
     "output_type": "error",
     "traceback": [
      "\u001b[1;31m---------------------------------------------------------------------------\u001b[0m",
      "\u001b[1;31mValueError\u001b[0m                                Traceback (most recent call last)",
      "\u001b[1;32md:\\Hacktiv8_Sheila\\learning_journal\\phase_0\\week_2\\day 1\\pm\\vector.ipynb Cell 13'\u001b[0m in \u001b[0;36m<cell line: 10>\u001b[1;34m()\u001b[0m\n\u001b[0;32m      <a href='vscode-notebook-cell:/d%3A/Hacktiv8_Sheila/learning_journal/phase_0/week_2/day%201/pm/vector.ipynb#ch0000015?line=6'>7</a>\u001b[0m a \u001b[39m+\u001b[39m b \u001b[39m#array([2, 7, 5])\u001b[39;00m\n\u001b[0;32m      <a href='vscode-notebook-cell:/d%3A/Hacktiv8_Sheila/learning_journal/phase_0/week_2/day%201/pm/vector.ipynb#ch0000015?line=8'>9</a>\u001b[0m d \u001b[39m=\u001b[39m np\u001b[39m.\u001b[39marray([\u001b[39m1\u001b[39m, \u001b[39m2\u001b[39m])\n\u001b[1;32m---> <a href='vscode-notebook-cell:/d%3A/Hacktiv8_Sheila/learning_journal/phase_0/week_2/day%201/pm/vector.ipynb#ch0000015?line=9'>10</a>\u001b[0m a \u001b[39m+\u001b[39;49m d\n",
      "\u001b[1;31mValueError\u001b[0m: operands could not be broadcast together with shapes (3,) (2,) "
     ]
    }
   ],
   "source": [
    "# Operasi Aritmatika\n",
    "\n",
    "print (a, b)\n",
    "\n",
    "#penjumlahan\n",
    "a + 10 #array([11, 15, 12])\n",
    "a + b #array([2, 7, 5])\n",
    "\n",
    "d = np.array([1, 2])\n",
    "a + d #error\n"
   ]
  },
  {
   "cell_type": "code",
   "execution_count": 51,
   "metadata": {},
   "outputs": [
    {
     "data": {
      "image/png": "[encoded data removed]",
      "text/plain": [
       "<Figure size 432x288 with 1 Axes>"
      ]
     },
     "metadata": {
      "needs_background": "light"
     },
     "output_type": "display_data"
    }
   ],
   "source": [
    "v = np.array([3, 5])\n",
    "u = np.array([4, 1])\n",
    "\n",
    "plot_vector2d(v, color='r')\n",
    "plot_vector2d(u, origin = v, color='g')\n",
    "plot_vector2d(v+u, color=\"b\")\n",
    "\n",
    "plt.axis([0,10,0,10]) # rentang axis sumbu x dan y\n",
    "plt.grid()\n",
    "plt.show()"
   ]
  },
  {
   "cell_type": "code",
   "execution_count": 59,
   "metadata": {},
   "outputs": [
    {
     "data": {
      "image/png": "[encoded data removed]",
      "text/plain": [
       "<Figure size 432x288 with 1 Axes>"
      ]
     },
     "metadata": {
      "needs_background": "light"
     },
     "output_type": "display_data"
    }
   ],
   "source": [
    "v = np.array([3, 5])\n",
    "u = np.array([4, 1])\n",
    "\n",
    "plot_vector2d(v, color='r')\n",
    "plot_vector2d(-u, origin = v, color='g')\n",
    "plot_vector2d(v-u, color=\"b\")\n",
    "\n",
    "plt.axis([-10,10,-10,10]) # rentang axis sumbu x dan y\n",
    "plt.axvline(0,0)\n",
    "plt.axhline(0,0)\n",
    "plt.grid()\n",
    "plt.show()"
   ]
  },
  {
   "cell_type": "code",
   "execution_count": 58,
   "metadata": {},
   "outputs": [
    {
     "name": "stdout",
     "output_type": "stream",
     "text": [
      "[1 5 2] [1 2 3]\n"
     ]
    },
    {
     "data": {
      "text/plain": [
       "array([ 0,  3, -1])"
      ]
     },
     "execution_count": 58,
     "metadata": {},
     "output_type": "execute_result"
    }
   ],
   "source": [
    "# pengurangan\n",
    "print(a,b)\n",
    "\n",
    "#vektor-skalar\n",
    "a-5 #array([-4,  0, -3])\n",
    "\n",
    "#vektor-vektor\n",
    "a-b #array([ 0,  3, -1])"
   ]
  },
  {
   "cell_type": "code",
   "execution_count": 62,
   "metadata": {},
   "outputs": [
    {
     "name": "stdout",
     "output_type": "stream",
     "text": [
      "[1 5 2] [1 2 3]\n"
     ]
    },
    {
     "data": {
      "text/plain": [
       "array([1.        , 2.5       , 0.66666667])"
      ]
     },
     "execution_count": 62,
     "metadata": {},
     "output_type": "execute_result"
    }
   ],
   "source": [
    "# pembagian\n",
    "\n",
    "print (a,b)\n",
    "\n",
    "#vektor-skalar\n",
    "20/a #array([20.,  4., 10.])\n",
    "\n",
    "#vektor-vektor\n",
    "a/b #array([1.        , 2.5       , 0.66666667])"
   ]
  },
  {
   "cell_type": "code",
   "execution_count": 73,
   "metadata": {},
   "outputs": [
    {
     "name": "stdout",
     "output_type": "stream",
     "text": [
      "[1 5 2] [1 2 3]\n"
     ]
    },
    {
     "data": {
      "image/png": "[encoded data removed]",
      "text/plain": [
       "<Figure size 432x288 with 1 Axes>"
      ]
     },
     "metadata": {
      "needs_background": "light"
     },
     "output_type": "display_data"
    }
   ],
   "source": [
    "# perkalian\n",
    "\n",
    "#vektor-skalar (scalling)\n",
    "print(a,b)\n",
    "20*a #array([ 20, 100,  40])\n",
    "\n",
    "v = np.array([3, 2])\n",
    "\n",
    "plot_vector2d(v, color=\"r\")\n",
    "plot_vector2d(2*v, color=\"g\")\n",
    "plot_vector2d(-0.5*v, color=\"b\")\n",
    "\n",
    "plt.axis([-10,10,-10,10]) # rentang axis sumbu x dan y\n",
    "plt.axvline(0,0)\n",
    "plt.axhline(0,0)\n",
    "plt.grid()\n",
    "plt.show()\n",
    "\n"
   ]
  },
  {
   "cell_type": "code",
   "execution_count": 74,
   "metadata": {},
   "outputs": [
    {
     "data": {
      "text/plain": [
       "array([ 1, 10,  6])"
      ]
     },
     "execution_count": 74,
     "metadata": {},
     "output_type": "execute_result"
    }
   ],
   "source": [
    "#vektor-vektor (element-wise multiplication)\n",
    "a*b"
   ]
  },
  {
   "cell_type": "code",
   "execution_count": 76,
   "metadata": {},
   "outputs": [
    {
     "data": {
      "text/plain": [
       "17"
      ]
     },
     "execution_count": 76,
     "metadata": {},
     "output_type": "execute_result"
    }
   ],
   "source": [
    "#dot product - result is scalar\n",
    "# a.b = |a||b|cos(degree)\n",
    "\n",
    "np.dot(a, b)"
   ]
  },
  {
   "cell_type": "code",
   "execution_count": 77,
   "metadata": {},
   "outputs": [
    {
     "data": {
      "text/plain": [
       "0.8295150620062532"
      ]
     },
     "execution_count": 77,
     "metadata": {},
     "output_type": "execute_result"
    }
   ],
   "source": [
    "#cosine similarity\n",
    "\n",
    "# rentang [0-1]\n",
    "\n",
    "cos = a @ b / (np.linalg.norm(a)*np.linalg.norm(b))\n",
    "cos"
   ]
  },
  {
   "cell_type": "code",
   "execution_count": 80,
   "metadata": {},
   "outputs": [
    {
     "name": "stdout",
     "output_type": "stream",
     "text": [
      "27.266044450732828\n"
     ]
    }
   ],
   "source": [
    "# persamaan kalimat\n",
    "\n",
    "kalimat_1 = \"Kemarin saya pergi ke rumah nenek saya\"\n",
    "kalimat_2 = \"Kemarin saya pergi ke rumah kakek saya\"\n",
    "\n",
    "#buat dictionary kalimat\n",
    "# kemarin, saya, pergi, ke, rumah, nenek, kakek\n",
    "# kolom 1\n",
    "    # kemarin   1\n",
    "    # saya      2\n",
    "    # pergi     1\n",
    "    # ke        1\n",
    "    # rumah     1\n",
    "    # nenek     1\n",
    "    # kakek\n",
    "# kolom 2\n",
    "    # kemarin   1\n",
    "    # saya      2\n",
    "    # pergi     1\n",
    "    # ke        1\n",
    "    # rumah     1\n",
    "    # nenek\n",
    "    # kakek     1\n",
    "\n",
    "vector_1 = np.array([1, 2, 1, 1, 1, 1, 0])\n",
    "vector_2 = np.array([1, 2, 1, 1, 1, 0, 1])\n",
    "cos_theta = vector_1 @ vector_2 / (np.linalg.norm(vector_1)*np.linalg.norm(vector_2))\n",
    "radian = np.arccos(cos_theta)\n",
    "print(np.degrees(radian))\n",
    "# 0.5 - 1 mirip\n",
    "# 0.8 - 1 mirip kuat\n",
    "# 0 - 0.5 tidak mirip\n",
    "# 0 - 0.2 tidak mirip kuat\n",
    "\n",
    "# gambar - cnn\n",
    "# kata - nlp\n",
    "# "
   ]
  }
 ],
 "metadata": {
  "kernelspec": {
   "display_name": "Python 3.9.12 ('base')",
   "language": "python",
   "name": "python3"
  },
  "language_info": {
   "codemirror_mode": {
    "name": "ipython",
    "version": 3
   },
   "file_extension": ".py",
   "mimetype": "text/x-python",
   "name": "python",
   "nbconvert_exporter": "python",
   "pygments_lexer": "ipython3",
   "version": "3.9.12"
  },
  "orig_nbformat": 4,
  "vscode": {
   "interpreter": {
    "hash": "690fcc030dbde6f3f652c519b06a0d95da528e66105ed58c88e506e5818277cb"
   }
  }
 },
 "nbformat": 4,
 "nbformat_minor": 2
}
