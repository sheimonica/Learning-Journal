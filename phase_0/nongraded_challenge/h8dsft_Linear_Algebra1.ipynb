{
 "cells": [
  {
   "cell_type": "markdown",
   "metadata": {},
   "source": [
    "1. Buatlah vektor di bawah ini dengan Python: (17 22 19)"
   ]
  },
  {
   "cell_type": "code",
   "execution_count": 1,
   "metadata": {},
   "outputs": [
    {
     "name": "stdout",
     "output_type": "stream",
     "text": [
      "[17 22 19]\n"
     ]
    }
   ],
   "source": [
    "import numpy as np\n",
    "v = np.array([17, 22, 19])\n",
    "\n",
    "print(v)"
   ]
  },
  {
   "cell_type": "markdown",
   "metadata": {},
   "source": [
    "2. Diberikan 3 buah vector 3 dimensi:\n",
    "𝑨= 17 22 19\n",
    "𝑩= 10 20 11\n",
    "𝑪= 5 12 9\n",
    "\n",
    "Hitunglah:\n",
    "-A+B\n",
    "-B-C\n",
    "-A dot C\n",
    "-A x B\n",
    "-norm A\n",
    "-Sudut antara vektor A dan B\n"
   ]
  },
  {
   "cell_type": "code",
   "execution_count": 14,
   "metadata": {},
   "outputs": [
    {
     "name": "stdout",
     "output_type": "stream",
     "text": [
      "[27 42 30]\n",
      "[5 8 2]\n",
      "520\n",
      "[170 440 209]\n",
      "33.67491648096547\n",
      "12.588900662180242\n"
     ]
    }
   ],
   "source": [
    "import numpy as np\n",
    "\n",
    "a = np.array([17, 22, 19])\n",
    "b= np.array([10, 20, 11])\n",
    "c= np.array([5, 12, 9])\n",
    "\n",
    "print(a+b)\n",
    "print(b-c)\n",
    "print(np.dot(a, c))\n",
    "print(a*b)\n",
    "print(np.linalg.norm(a))\n",
    "#find cos theta\n",
    "cos_theta = a @ b / (np.linalg.norm(a)*np.linalg.norm(b))\n",
    "\n",
    "#find radian angle\n",
    "radian = np.arccos(cos_theta)\n",
    "\n",
    "#find angle in degree\n",
    "print(np.degrees(radian))"
   ]
  },
  {
   "cell_type": "markdown",
   "metadata": {},
   "source": [
    "3. Buatlah plot dari vector berikut ini kedalam bidang 2D:\n",
    "𝒖= 2 5\n",
    "𝒗= 3 1"
   ]
  },
  {
   "cell_type": "code",
   "execution_count": 15,
   "metadata": {},
   "outputs": [
    {
     "data": {
      "image/png": "[encoded data removed]",
      "text/plain": [
       "<Figure size 432x288 with 1 Axes>"
      ]
     },
     "metadata": {
      "needs_background": "light"
     },
     "output_type": "display_data"
    }
   ],
   "source": [
    "import numpy as np\n",
    "import matplotlib.pyplot as plt\n",
    "\n",
    "u = np.array([2, 5])\n",
    "v = np.array([3, 1])\n",
    "\n",
    "def plot_vector2d(vector2d, origin=[0, 0], **options):\n",
    "    return plt.arrow(origin[0], origin[1], vector2d[0], vector2d[1],\n",
    "              head_width=0.2, head_length=0.3, length_includes_head=True,\n",
    "              **options)\n",
    "\n",
    "plot_vector2d(v, color='r')\n",
    "plot_vector2d(u, origin=v, color='g')\n",
    "\n",
    "plt.axis([-10,10,-10,10]) # rentang axis sumbu x dan y\n",
    "plt.axvline(0,0)\n",
    "plt.axhline(0,0)\n",
    "plt.grid()\n",
    "plt.show()"
   ]
  }
 ],
 "metadata": {
  "kernelspec": {
   "display_name": "Python 3.9.12 ('base')",
   "language": "python",
   "name": "python3"
  },
  "language_info": {
   "codemirror_mode": {
    "name": "ipython",
    "version": 3
   },
   "file_extension": ".py",
   "mimetype": "text/x-python",
   "name": "python",
   "nbconvert_exporter": "python",
   "pygments_lexer": "ipython3",
   "version": "3.9.12"
  },
  "orig_nbformat": 4,
  "vscode": {
   "interpreter": {
    "hash": "690fcc030dbde6f3f652c519b06a0d95da528e66105ed58c88e506e5818277cb"
   }
  }
 },
 "nbformat": 4,
 "nbformat_minor": 2
}
