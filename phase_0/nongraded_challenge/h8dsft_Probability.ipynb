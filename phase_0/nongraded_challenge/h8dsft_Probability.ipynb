{
 "cells": [
  {
   "cell_type": "code",
   "execution_count": 19,
   "metadata": {},
   "outputs": [
    {
     "name": "stdout",
     "output_type": "stream",
     "text": [
      "From 50000 coin tosses, there are 24996 heads and 25004 tails\n"
     ]
    },
    {
     "data": {
      "image/png": "[encoded data removed]",
      "text/plain": [
       "<Figure size 360x360 with 1 Axes>"
      ]
     },
     "metadata": {},
     "output_type": "display_data"
    }
   ],
   "source": [
    "# Import Library\n",
    "import random\n",
    "import matplotlib.pyplot as plt\n",
    "\n",
    "# Variables\n",
    "trials = 50000\n",
    "h_count = 0\n",
    "t_count = 0\n",
    "\n",
    "for trial in range(0, trials):\n",
    "  outcome = random.randint(0, 1)\n",
    "  if outcome == 0:\n",
    "    h_count += 1\n",
    "  else:\n",
    "    t_count += 1\n",
    "\n",
    "print (f\"From 50000 coin tosses, there are {h_count} heads and {t_count} tails\")\n",
    "\n",
    "plt.figure(figsize=(5,5))\n",
    "plt.pie([h_count, t_count], labels=['Head', 'Tail'])\n",
    "plt.legend()\n",
    "plt.show()"
   ]
  }
 ],
 "metadata": {
  "kernelspec": {
   "display_name": "Python 3.9.12 ('base')",
   "language": "python",
   "name": "python3"
  },
  "language_info": {
   "codemirror_mode": {
    "name": "ipython",
    "version": 3
   },
   "file_extension": ".py",
   "mimetype": "text/x-python",
   "name": "python",
   "nbconvert_exporter": "python",
   "pygments_lexer": "ipython3",
   "version": "3.9.12"
  },
  "orig_nbformat": 4,
  "vscode": {
   "interpreter": {
    "hash": "690fcc030dbde6f3f652c519b06a0d95da528e66105ed58c88e506e5818277cb"
   }
  }
 },
 "nbformat": 4,
 "nbformat_minor": 2
}
