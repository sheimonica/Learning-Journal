{
 "cells": [
  {
   "cell_type": "markdown",
   "metadata": {},
   "source": [
    "### Tables Creation"
   ]
  },
  {
   "cell_type": "markdown",
   "metadata": {},
   "source": [
    "``` \n",
    "CREATE TABLE teachers (\n",
    "    id INT NOT NULL PRIMARY KEY AUTO_INCREMENT,\n",
    "    first_name varchar(25) NOT NULL,\n",
    "    last_name varchar(50),\n",
    "    school varchar(50) NOT NULL,\n",
    "    hire_date date,\n",
    "    salary numeric\n",
    "    );\n",
    "    \n",
    "INSERT INTO teachers (id,first_name, last_name, school, hire_date, salary)\n",
    "    VALUES (1,'Janet', 'Smith', 'MIT', '2011-10-30', 36200),\n",
    "           (2,'Lee', 'Reynolds', 'MIT', '1993-05-22', 65000),\n",
    "           (3,'Samuel', 'Cole', 'Cambridge University', '2005-08-01', 43500),\n",
    "           (4,'Samantha', 'Bush', 'Cambridge University', '2011-10-30', 36200),\n",
    "           (5,'Betty', 'Diaz', 'Cambridge University', '2005-08-30', 43500),\n",
    "           (6,'Kathleen', 'Roush', 'MIT', '2010-10-22', 38500),\n",
    "           (7,'James', 'Diaz', 'Harvard University', '2003-07-18', 61000),\n",
    "           (8,'Zack', 'Smith', 'Harvard University', '2000-12-29', 55500),\n",
    "           (9,'Luis', 'Gonzales', 'Standford University', '2002-12-01', 50000),\n",
    "           (10,'Frank', 'Abbers', 'Standford University', '1999-01-30', 66000);\n",
    "           \n",
    "INSERT INTO teachers (first_name, last_name, school, hire_date, salary)\n",
    "    VALUES ('Samuel', 'Abbers', 'Standford University', '2006-01-30', 32000),\n",
    "           ('Jessica', 'Abbers', 'Standford University', '2005-01-30', 33000),\n",
    "           ('Tom', 'Massi', 'Harvard University', '1999-09-09', 39500),\n",
    "           ('Esteban', 'Brown', 'MIT', '2007-01-30', 36000),\n",
    "           ('Carlos', 'Alonso', 'Standford University', '2001-01-30', 44000);\n",
    "\n",
    "CREATE TABLE courses (\n",
    "    id INT NOT NULL PRIMARY KEY AUTO_INCREMENT,\n",
    "    name varchar(20),\n",
    "    teachers_id INT,\n",
    "    total_students INT\n",
    "    );\n",
    "\n",
    "INSERT INTO courses (name, teachers_id, total_students)\n",
    "    VALUES  ('Calculus', 2, 20),\n",
    "            ('Physics', 2, 10),\n",
    "            ('Calculus', 1, 30),\n",
    "            ('Computer Science', 1, 20),\n",
    "            ('Politic', 13, 15),\n",
    "            ('Algebra', 2, 10),\n",
    "            ('Algebra', 13, 30),\n",
    "            ('Computer Science', 10, 35),\n",
    "            ('Life Science', 11, 20),\n",
    "            ('Chemistry', 9, 22),\n",
    "            ('Chemistry', 8, 16),\n",
    "            ('Calculus', 5, 19),\n",
    "            ('Politic', 4, 17),\n",
    "            ('Biology', 6, 22),\n",
    "            ('Physics', 3, 29),\n",
    "            ('Biology', 8, 28),\n",
    "            ('Calculus', 12, 34),\n",
    "            ('Physics', 13, 34),\n",
    "            ('Biology', 14, 25),\n",
    "            ('Calculus', 15, 20);"
   ]
  },
  {
   "cell_type": "markdown",
   "metadata": {},
   "source": [
    "### Carilah dosen yang memiliki gaji tertinggi per masing-masing mata kuliah. Tampilkan semua atribut dosen dan semua atribut mata kuliahnya. Urutkan hasilnya berdasarkan nama mata kuliahnya secara ascending (A-Z)"
   ]
  },
  {
   "cell_type": "markdown",
   "metadata": {},
   "source": [
    "``` SELECT * -- selecting full data \n",
    "FROM teachers \n",
    "JOIN courses ON teachers.id=courses.teachers_id  -- joining the two tables together \n",
    "WHERE (courses.name, teachers.salary) -- filtering course name and salary\n",
    "IN (\n",
    "  SELECT courses.name, MAX(teachers.salary) -- targetting max teacher salary in every courses\n",
    "  FROM teachers\n",
    "  JOIN courses ON teachers.id=courses.teachers_id\n",
    "  GROUP BY courses.name) -- grouping teacher's salary per course name\n",
    "ORDER BY courses.name ASC; -- sorting the name ascending"
   ]
  }
 ],
 "metadata": {
  "language_info": {
   "name": "python"
  },
  "orig_nbformat": 4
 },
 "nbformat": 4,
 "nbformat_minor": 2
}
